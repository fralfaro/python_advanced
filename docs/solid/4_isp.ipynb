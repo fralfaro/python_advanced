{
 "cells": [
  {
   "cell_type": "markdown",
   "metadata": {},
   "source": [
    "# Interface Segregation Principle\n",
    "\n"
   ]
  },
  {
   "cell_type": "markdown",
   "metadata": {},
   "source": [
    "El **Principio de Segregación de Interfaces** (Interface Segregation Principle - ISP) es uno de los cinco principios SOLID del diseño de software. Fue propuesto por Robert C. Martin en su libro \"Diseño Ágil: Principios, Patrones y Prácticas en C#\". El ISP establece que una clase no debe ser forzada a depender de métodos que no utiliza. En lugar de tener interfaces grandes que contienen métodos para diferentes casos de uso, se deben tener varias interfaces más pequeñas y específicas que satisfagan las necesidades de cada cliente.\n",
    "\n",
    "## Definición del ISP:\n",
    "\n",
    "El principio ISP establece que los clientes no deben verse obligados a depender de interfaces que no utilizan. En otras palabras, una interfaz no debe contener métodos que no son relevantes para todos los clientes que la implementan. En lugar de una única interfaz grande, se deben tener múltiples interfaces más pequeñas y específicas, cada una diseñada para satisfacer las necesidades de un conjunto específico de clientes.\n",
    "\n",
    "## Ejemplo del ISP:\n",
    "\n",
    "Supongamos que tenemos una interfaz `Machine` que define varios métodos para diferentes tipos de máquinas, como impresoras y escáneres. Siguiendo el principio ISP, dividiremos esta interfaz en interfaces más pequeñas y específicas que satisfagan las necesidades de cada tipo de máquina."
   ]
  },
  {
   "cell_type": "code",
   "execution_count": 2,
   "metadata": {},
   "outputs": [],
   "source": [
    "from abc import ABC, abstractmethod\n",
    "\n",
    "# Interfaz original\n",
    "class Machine(ABC):\n",
    "    @abstractmethod\n",
    "    def print(self):\n",
    "        pass\n",
    "\n",
    "    @abstractmethod\n",
    "    def scan(self):\n",
    "        pass\n",
    "\n",
    "# Interfaz segregada\n",
    "class Printer(ABC):\n",
    "    @abstractmethod\n",
    "    def print(self):\n",
    "        pass\n",
    "\n",
    "class Scanner(ABC):\n",
    "    @abstractmethod\n",
    "    def scan(self):\n",
    "        pass\n",
    "\n",
    "# Clase que implementa la interfaz segregada\n",
    "class AllInOneMachine(Printer, Scanner):\n",
    "    def print(self):\n",
    "        print(\"Printing\")\n",
    "\n",
    "    def scan(self):\n",
    "        print(\"Scanning\")"
   ]
  },
  {
   "cell_type": "code",
   "execution_count": 3,
   "metadata": {},
   "outputs": [
    {
     "name": "stdout",
     "output_type": "stream",
     "text": [
      "Printing\n",
      "Scanning\n"
     ]
    }
   ],
   "source": [
    "# Uso del principio ISP\n",
    "\n",
    "all_in_one = AllInOneMachine()\n",
    "all_in_one.print()  # Printing\n",
    "all_in_one.scan()   # Scanning"
   ]
  },
  {
   "cell_type": "markdown",
   "metadata": {},
   "source": [
    "En este ejemplo, la interfaz `Machine` se ha dividido en dos interfaces más pequeñas y específicas: `Printer` y `Scanner`. Ahora, la clase `AllInOneMachine` implementa solo los métodos relevantes para una máquina que es capaz de imprimir y escanear. Esto sigue el principio ISP, ya que los clientes de la interfaz `Printer` no se ven obligados a depender de un método de escaneo que no necesitan, y viceversa. Esto hace que el diseño sea más flexible y mantenible."
   ]
  }
 ],
 "metadata": {
  "kernelspec": {
   "display_name": "Python 3 (ipykernel)",
   "language": "python",
   "name": "python3"
  },
  "language_info": {
   "codemirror_mode": {
    "name": "ipython",
    "version": 3
   },
   "file_extension": ".py",
   "mimetype": "text/x-python",
   "name": "python",
   "nbconvert_exporter": "python",
   "pygments_lexer": "ipython3",
   "version": "3.8.10"
  },
  "nbTranslate": {
   "displayLangs": [
    "*"
   ],
   "hotkey": "alt-t",
   "langInMainMenu": true,
   "sourceLang": "en",
   "targetLang": "fr",
   "useGoogleTranslate": true
  }
 },
 "nbformat": 4,
 "nbformat_minor": 4
}
