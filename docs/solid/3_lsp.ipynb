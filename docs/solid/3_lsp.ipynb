{
 "cells": [
  {
   "cell_type": "markdown",
   "metadata": {},
   "source": [
    "<a href=\"https://colab.research.google.com/github/fralfaro/python_advanced/blob/main/docs/solid/3_lsp.ipynb\" target=\"_parent\"><img src=\"https://colab.research.google.com/assets/colab-badge.svg\" alt=\"Open In Colab\"/></a>\n",
    "\n",
    "# Liskov Substitution Principle\n",
    "\n"
   ]
  },
  {
   "cell_type": "markdown",
   "metadata": {},
   "source": [
    "El **Principio de Sustitución de Liskov** (Liskov Substitution Principle - LSP) es uno de los cinco principios SOLID del diseño de software. Fue propuesto por Barbara Liskov en 1987 y establece que los objetos de un programa deberían ser reemplazables por instancias de sus subtipos sin afectar la corrección del programa.\n",
    "\n",
    "## Definición del LSP:\n",
    "\n",
    "El principio LSP establece que los objetos de un programa deben poder ser sustituidos por instancias de sus subtipos sin alterar las propiedades del programa, como la corrección y la ejecución exitosa. En otras palabras, una subclase debe poder reemplazar a su clase base sin cambiar el comportamiento esperado del programa. Esto implica que los subtipos deben seguir cumpliendo con las mismas precondiciones y postcondiciones que sus tipos base.\n",
    "\n",
    "## Ejemplo del LSP:\n",
    "\n",
    "Supongamos que tenemos una jerarquía de clases que representan diferentes tipos de aves, como `Bird`, `Duck` y `Penguin`. Siguiendo el principio LSP, todas las subclases deben poder ser utilizadas en lugar de su clase base (`Bird`) sin causar efectos secundarios."
   ]
  },
  {
   "cell_type": "code",
   "execution_count": 1,
   "metadata": {},
   "outputs": [],
   "source": [
    "class Bird:\n",
    "    def fly(self):\n",
    "        pass\n",
    "\n",
    "class Duck(Bird):\n",
    "    def fly(self):\n",
    "        print(\"Duck flying\")\n",
    "\n",
    "class Penguin(Bird):\n",
    "    def fly(self):\n",
    "        raise NotImplementedError(\"Penguins can't fly\")\n",
    "\n",
    "# Función que interactúa con objetos de tipo Bird\n",
    "def bird_interaction(bird):\n",
    "    bird.fly()"
   ]
  },
  {
   "cell_type": "code",
   "execution_count": 2,
   "metadata": {},
   "outputs": [
    {
     "name": "stdout",
     "output_type": "stream",
     "text": [
      "Duck flying\n"
     ]
    }
   ],
   "source": [
    "# Uso del principio LSP\n",
    "duck = Duck()\n",
    "bird_interaction(duck)      # Duck flying"
   ]
  },
  {
   "cell_type": "code",
   "execution_count": 3,
   "metadata": {},
   "outputs": [
    {
     "ename": "NotImplementedError",
     "evalue": "Penguins can't fly",
     "output_type": "error",
     "traceback": [
      "\u001b[1;31m---------------------------------------------------------------------------\u001b[0m",
      "\u001b[1;31mNotImplementedError\u001b[0m                       Traceback (most recent call last)",
      "Cell \u001b[1;32mIn[3], line 2\u001b[0m\n\u001b[0;32m      1\u001b[0m penguin \u001b[38;5;241m=\u001b[39m Penguin()\n\u001b[1;32m----> 2\u001b[0m \u001b[43mbird_interaction\u001b[49m\u001b[43m(\u001b[49m\u001b[43mpenguin\u001b[49m\u001b[43m)\u001b[49m   \u001b[38;5;66;03m# NotImplementedError: Penguins can't fly\u001b[39;00m\n",
      "Cell \u001b[1;32mIn[1], line 15\u001b[0m, in \u001b[0;36mbird_interaction\u001b[1;34m(bird)\u001b[0m\n\u001b[0;32m     14\u001b[0m \u001b[38;5;28;01mdef\u001b[39;00m \u001b[38;5;21mbird_interaction\u001b[39m(bird):\n\u001b[1;32m---> 15\u001b[0m     \u001b[43mbird\u001b[49m\u001b[38;5;241;43m.\u001b[39;49m\u001b[43mfly\u001b[49m\u001b[43m(\u001b[49m\u001b[43m)\u001b[49m\n",
      "Cell \u001b[1;32mIn[1], line 11\u001b[0m, in \u001b[0;36mPenguin.fly\u001b[1;34m(self)\u001b[0m\n\u001b[0;32m     10\u001b[0m \u001b[38;5;28;01mdef\u001b[39;00m \u001b[38;5;21mfly\u001b[39m(\u001b[38;5;28mself\u001b[39m):\n\u001b[1;32m---> 11\u001b[0m     \u001b[38;5;28;01mraise\u001b[39;00m \u001b[38;5;167;01mNotImplementedError\u001b[39;00m(\u001b[38;5;124m\"\u001b[39m\u001b[38;5;124mPenguins can\u001b[39m\u001b[38;5;124m'\u001b[39m\u001b[38;5;124mt fly\u001b[39m\u001b[38;5;124m\"\u001b[39m)\n",
      "\u001b[1;31mNotImplementedError\u001b[0m: Penguins can't fly"
     ]
    }
   ],
   "source": [
    "penguin = Penguin()\n",
    "bird_interaction(penguin)   # NotImplementedError: Penguins can't fly"
   ]
  },
  {
   "cell_type": "markdown",
   "metadata": {},
   "source": [
    "En este ejemplo, tanto `Duck` como `Penguin` son subtipos de `Bird`. Sin embargo, `Penguin` no puede volar, por lo que su implementación de `fly()` lanza una excepción. A pesar de que `Penguin` no puede volar, sigue siendo una subclase válida de `Bird` y puede ser utilizada en lugar de `Bird` en la función `bird_interaction()`. Esto demuestra el cumplimiento del principio LSP, ya que el comportamiento del programa no se ve afectado por la sustitución de objetos de tipo `Bird` con sus subtipos."
   ]
  }
 ],
 "metadata": {
  "kernelspec": {
   "display_name": "Python 3 (ipykernel)",
   "language": "python",
   "name": "python3"
  },
  "language_info": {
   "codemirror_mode": {
    "name": "ipython",
    "version": 3
   },
   "file_extension": ".py",
   "mimetype": "text/x-python",
   "name": "python",
   "nbconvert_exporter": "python",
   "pygments_lexer": "ipython3",
   "version": "3.8.10"
  },
  "nbTranslate": {
   "displayLangs": [
    "*"
   ],
   "hotkey": "alt-t",
   "langInMainMenu": true,
   "sourceLang": "en",
   "targetLang": "fr",
   "useGoogleTranslate": true
  }
 },
 "nbformat": 4,
 "nbformat_minor": 4
}
