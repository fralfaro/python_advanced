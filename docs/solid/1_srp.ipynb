{
 "cells": [
  {
   "cell_type": "markdown",
   "metadata": {},
   "source": [
    "# Single Responsibility Principle\n",
    "\n",
    "> **\"... Tenías un trabajo\"** - Loki a Skurge en Thor: Ragnarok.\n"
   ]
  },
  {
   "cell_type": "markdown",
   "metadata": {},
   "source": [
    "El **Principio de Responsabilidad Única** (Single Responsibility Principle - SRP) es uno de los cinco principios SOLID del diseño de software. Fue introducido por Robert C. Martin en su libro \"Diseño Ágil: Principios, Patrones y Prácticas en C#\". El SRP establece que una clase debe tener una sola razón para cambiar, es decir, debe tener una sola responsabilidad.\n",
    "\n",
    "## Definición del SRP:\n",
    "\n",
    "Una clase debe tener solo una razón para cambiar, es decir, una sola responsabilidad. Esto significa que una clase debe estar diseñada para hacer una cosa y hacerla bien. Si una clase tiene más de una responsabilidad, debería dividirse en clases más pequeñas, cada una con una única responsabilidad. El objetivo del SRP es lograr la cohesión y reducir el acoplamiento en el diseño de software.\n",
    "\n",
    "## Ejemplo del SRP:\n",
    "\n",
    "Supongamos que tenemos una clase `Employee` que representa a un empleado en una empresa. Esta clase puede tener múltiples responsabilidades, como almacenar los datos del empleado, calcular el salario, generar reportes, etc. Sin embargo, estas responsabilidades pueden dividirse en clases separadas siguiendo el SRP."
   ]
  },
  {
   "cell_type": "code",
   "execution_count": 2,
   "metadata": {},
   "outputs": [],
   "source": [
    "class Employee:\n",
    "    def __init__(self, name, id, salary):\n",
    "        self.name = name\n",
    "        self.id = id\n",
    "        self.salary = salary\n",
    "\n",
    "    def calculate_salary(self):\n",
    "        # Cálculo del salario\n",
    "        pass\n",
    "\n",
    "    def generate_report(self):\n",
    "        # Generación de reporte\n",
    "        pass"
   ]
  },
  {
   "cell_type": "code",
   "execution_count": 3,
   "metadata": {},
   "outputs": [],
   "source": [
    "# Versión refactorizada siguiendo el SRP\n",
    "class Employee:\n",
    "    def __init__(self, name, id, salary):\n",
    "        self.name = name\n",
    "        self.id = id\n",
    "        self.salary = salary\n",
    "\n",
    "class SalaryCalculator:\n",
    "    @staticmethod\n",
    "    def calculate_salary(employee):\n",
    "        # Cálculo del salario\n",
    "        pass\n",
    "\n",
    "class ReportGenerator:\n",
    "    @staticmethod\n",
    "    def generate_report(employee):\n",
    "        # Generación de reporte\n",
    "        pass"
   ]
  },
  {
   "cell_type": "markdown",
   "metadata": {},
   "source": [
    "En este ejemplo, la clase `Employee` inicialmente tiene dos responsabilidades: calcular el salario y generar reportes. Sin embargo, siguiendo el SRP, estas responsabilidades se han dividido en clases separadas: `SalaryCalculator` y `ReportGenerator`. Ahora, la clase `Employee` tiene una única responsabilidad: almacenar los datos del empleado. Esto hace que el código sea más modular, mantenible y fácil de entender."
   ]
  }
 ],
 "metadata": {
  "kernelspec": {
   "display_name": "Python 3 (ipykernel)",
   "language": "python",
   "name": "python3"
  },
  "language_info": {
   "codemirror_mode": {
    "name": "ipython",
    "version": 3
   },
   "file_extension": ".py",
   "mimetype": "text/x-python",
   "name": "python",
   "nbconvert_exporter": "python",
   "pygments_lexer": "ipython3",
   "version": "3.8.10"
  },
  "nbTranslate": {
   "displayLangs": [
    "*"
   ],
   "hotkey": "alt-t",
   "langInMainMenu": true,
   "sourceLang": "en",
   "targetLang": "fr",
   "useGoogleTranslate": true
  }
 },
 "nbformat": 4,
 "nbformat_minor": 4
}
