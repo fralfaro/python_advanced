{
 "cells": [
  {
   "cell_type": "markdown",
   "metadata": {},
   "source": [
    "# Patrones estructurales\n",
    "\n",
    "Los **patrones estructurales** son un conjunto de patrones de diseño en ingeniería de software que se centran en la composición de clases y objetos para formar estructuras más grandes y complejas. Estos patrones de diseño ayudan a definir relaciones entre objetos y clases de manera más flexible, permitiendo cambios en la estructura del sistema sin tener que cambiar sus componentes internos."
   ]
  },
  {
   "cell_type": "markdown",
   "metadata": {},
   "source": [
    "## Adapter\n",
    "\n",
    "El patrón **Adapter** es un patrón de diseño estructural que permite que interfaces incompatibles trabajen juntas. Este patrón convierte la interfaz de una clase en otra interfaz que un cliente espera, permitiendo que objetos con interfaces incompatibles puedan colaborar entre sí.\n",
    "\n",
    "![adapter](images/adapter.png)"
   ]
  },
  {
   "cell_type": "markdown",
   "metadata": {},
   "source": [
    "**Estructura del Patrón Adapter**:\n",
    "\n",
    "- **Cliente:** Es la clase que interactúa con el Adaptador para utilizar los servicios proporcionados por el Adaptee.\n",
    "  \n",
    "- **Target:** Define la interfaz específica que utiliza el Cliente.\n",
    "\n",
    "- **Adaptee:** Es la clase existente que tiene una interfaz incompatible con la que el Cliente espera.\n",
    "\n",
    "- **Adapter:** Es la clase que conecta el Cliente con el Adaptee. Implementa la interfaz del Target y mantiene una referencia al Adaptee, delegando las llamadas del Cliente al Adaptee."
   ]
  },
  {
   "cell_type": "markdown",
   "metadata": {},
   "source": [
    "En este ejemplo, supongamos que tenemos un sistema que necesita mostrar información de libros, pero la clase `Book` proporciona una interfaz incompatibles con la interfaz requerida por el cliente. Utilizaremos el patrón Adapter para adaptar la interfaz de `Book` a la interfaz requerida por el cliente."
   ]
  },
  {
   "cell_type": "code",
   "execution_count": 1,
   "metadata": {},
   "outputs": [
    {
     "name": "stdout",
     "output_type": "stream",
     "text": [
      "Title: The Hobbit\n",
      "Author: J.R.R. Tolkien\n"
     ]
    }
   ],
   "source": [
    "from abc import ABC, abstractmethod\n",
    "\n",
    "# Target\n",
    "class BookViewer(ABC):\n",
    "    @abstractmethod\n",
    "    def display_info(self):\n",
    "        pass\n",
    "\n",
    "# Adaptee\n",
    "class Book:\n",
    "    def __init__(self, title, author):\n",
    "        self.title = title\n",
    "        self.author = author\n",
    "\n",
    "    def get_title(self):\n",
    "        return self.title\n",
    "\n",
    "    def get_author(self):\n",
    "        return self.author\n",
    "\n",
    "# Adapter\n",
    "class BookAdapter(BookViewer):\n",
    "    def __init__(self, book):\n",
    "        self.book = book\n",
    "\n",
    "    def display_info(self):\n",
    "        print(f\"Title: {self.book.get_title()}\")\n",
    "        print(f\"Author: {self.book.get_author()}\")\n",
    "\n",
    "# Cliente\n",
    "class App:\n",
    "    def __init__(self, book_viewer):\n",
    "        self.book_viewer = book_viewer\n",
    "\n",
    "    def display_book_info(self):\n",
    "        self.book_viewer.display_info()\n",
    "\n",
    "# Uso del patrón Adapter\n",
    "book = Book(\"The Hobbit\", \"J.R.R. Tolkien\")\n",
    "adapter = BookAdapter(book)\n",
    "app = App(adapter)\n",
    "app.display_book_info()"
   ]
  },
  {
   "cell_type": "markdown",
   "metadata": {},
   "source": [
    "En este ejemplo:\n",
    "\n",
    "- `Book` es la clase existente con una interfaz incompatible.\n",
    "- `BookViewer` define la interfaz requerida por el cliente.\n",
    "- `BookAdapter` es el adaptador que conecta la interfaz de `Book` con la interfaz de `BookViewer`.\n",
    "- `App` es el cliente que utiliza la interfaz de `BookViewer` para mostrar la información del libro.\n",
    "\n",
    "El adaptador `BookAdapter` permite al cliente utilizar la clase `Book` a través de la interfaz de `BookViewer`, a pesar de que sus interfaces son incompatibles. Esto permite una mayor flexibilidad y reutilización de código en el sistema."
   ]
  },
  {
   "cell_type": "markdown",
   "metadata": {},
   "source": [
    "## Bridge\n",
    "\n",
    "El patrón **Bridge** es un patrón de diseño estructural que separa la abstracción de su implementación, permitiendo que ambas puedan variar de forma independiente. Este patrón se utiliza cuando se necesita evitar una unión fija entre la abstracción y su implementación, lo que permite que ambos puedan cambiar y evolucionar de forma independiente sin necesidad de modificar el otro.\n",
    "\n",
    "![bridge](images/bridge.png)"
   ]
  },
  {
   "cell_type": "markdown",
   "metadata": {},
   "source": [
    "**Estructura del Patrón Bridge**:\n",
    "\n",
    "- **Abstracción:** Define la interfaz de alto nivel que el cliente utiliza para interactuar con el sistema. Mantiene una referencia a un objeto de Implementación.\n",
    "  \n",
    "- **Implementación:** Define la interfaz de bajo nivel que define las operaciones concretas que se pueden realizar. Puede haber múltiples implementaciones, y la abstracción se refiere a una de ellas.\n",
    "\n",
    "- **Implementador Concreto:** Es una implementación concreta de la interfaz Implementación.\n",
    "\n",
    "- **Refinamiento Abstracción:** Extiende la interfaz de Abstracción proporcionando una funcionalidad más detallada."
   ]
  },
  {
   "cell_type": "markdown",
   "metadata": {},
   "source": [
    "Supongamos que tenemos un sistema de formas geométricas que necesitan ser dibujadas en diferentes sistemas operativos (Windows y Linux). Utilizaremos el patrón Bridge para separar las clases de formas de su implementación de dibujo."
   ]
  },
  {
   "cell_type": "code",
   "execution_count": 2,
   "metadata": {},
   "outputs": [
    {
     "name": "stdout",
     "output_type": "stream",
     "text": [
      "API1 drawing a circle at (1, 2) with radius 3\n",
      "API2 drawing a circle at (5, 7) with radius 11\n"
     ]
    }
   ],
   "source": [
    "from abc import ABC, abstractmethod\n",
    "\n",
    "# Implementación\n",
    "class DrawingAPI(ABC):\n",
    "    @abstractmethod\n",
    "    def draw_circle(self, x, y, radius):\n",
    "        pass\n",
    "\n",
    "# Implementación Concreta\n",
    "class DrawingAPI1(DrawingAPI):\n",
    "    def draw_circle(self, x, y, radius):\n",
    "        print(f\"API1 drawing a circle at ({x}, {y}) with radius {radius}\")\n",
    "\n",
    "# Implementación Concreta\n",
    "class DrawingAPI2(DrawingAPI):\n",
    "    def draw_circle(self, x, y, radius):\n",
    "        print(f\"API2 drawing a circle at ({x}, {y}) with radius {radius}\")\n",
    "\n",
    "# Abstracción\n",
    "class Shape(ABC):\n",
    "    def __init__(self, drawing_api):\n",
    "        self._drawing_api = drawing_api\n",
    "\n",
    "    @abstractmethod\n",
    "    def draw(self):\n",
    "        pass\n",
    "\n",
    "# Refinamiento de Abstracción\n",
    "class CircleShape(Shape):\n",
    "    def __init__(self, x, y, radius, drawing_api):\n",
    "        super().__init__(drawing_api)\n",
    "        self._x = x\n",
    "        self._y = y\n",
    "        self._radius = radius\n",
    "\n",
    "    def draw(self):\n",
    "        self._drawing_api.draw_circle(self._x, self._y, self._radius)\n",
    "\n",
    "# Uso del patrón Bridge\n",
    "if __name__ == \"__main__\":\n",
    "    shapes = [\n",
    "        CircleShape(1, 2, 3, DrawingAPI1()),\n",
    "        CircleShape(5, 7, 11, DrawingAPI2())\n",
    "    ]\n",
    "\n",
    "    for shape in shapes:\n",
    "        shape.draw()"
   ]
  },
  {
   "cell_type": "markdown",
   "metadata": {},
   "source": [
    "En este ejemplo:\n",
    "\n",
    "- `DrawingAPI` define la interfaz para la implementación de dibujo.\n",
    "- `DrawingAPI1` y `DrawingAPI2` son implementaciones concretas de la interfaz de dibujo.\n",
    "- `Shape` es la abstracción que define la interfaz de alto nivel para las formas geométricas.\n",
    "- `CircleShape` es una forma geométrica concreta que extiende la abstracción `Shape`.\n",
    "- Al ejecutar el código, cada forma geométrica se dibuja utilizando la implementación de dibujo adecuada, independientemente del sistema operativo o la tecnología de dibujo utilizada.\n",
    "\n",
    "Este patrón permite que las clases de abstracción y las clases de implementación puedan variar y evolucionar de forma independiente, lo que facilita la extensión y el mantenimiento del sistema."
   ]
  },
  {
   "cell_type": "markdown",
   "metadata": {},
   "source": [
    "## Composite\n",
    "\n",
    "El patrón **Composite** es un patrón de diseño estructural que permite tratar objetos individuales y composiciones de objetos de manera uniforme. Este patrón compone objetos en estructuras de árbol para representar jerarquías de parte-todo. Esto significa que los clientes pueden tratar tanto a los objetos compuestos como a los individuales de manera uniforme.\n",
    "\n",
    "![composite](images/composite.png)"
   ]
  },
  {
   "cell_type": "markdown",
   "metadata": {},
   "source": [
    "**Estructura del Patrón Composite**:\n",
    "\n",
    "- **Componente:** Define la interfaz común para todos los componentes, ya sean objetos individuales o compuestos.\n",
    "\n",
    "- **Hoja (Leaf):** Representa los objetos individuales en la composición. Implementa la interfaz del componente.\n",
    "\n",
    "- **Composite:** Es un objeto que contiene una colección de componentes. Implementa la interfaz del componente y define operaciones específicas para trabajar con sus hijos."
   ]
  },
  {
   "cell_type": "markdown",
   "metadata": {},
   "source": [
    "Supongamos que queremos modelar una estructura de árbol para representar una empresa. Utilizaremos el patrón Composite para modelar departamentos y empleados de manera uniforme."
   ]
  },
  {
   "cell_type": "code",
   "execution_count": null,
   "metadata": {},
   "outputs": [],
   "source": [
    "from abc import ABC, abstractmethod\n",
    "\n",
    "# Componente\n",
    "class Component(ABC):\n",
    "    @abstractmethod\n",
    "    def show_name(self):\n",
    "        pass\n",
    "\n",
    "# Hoja (Leaf)\n",
    "class Employee(Component):\n",
    "    def __init__(self, name):\n",
    "        self.name = name\n",
    "\n",
    "    def show_name(self):\n",
    "        return self.name\n",
    "\n",
    "# Composite\n",
    "class Department(Component):\n",
    "    def __init__(self, name):\n",
    "        self.name = name\n",
    "        self.children = []\n",
    "\n",
    "    def add(self, component):\n",
    "        self.children.append(component)\n",
    "\n",
    "    def remove(self, component):\n",
    "        self.children.remove(component)\n",
    "\n",
    "    def show_name(self):\n",
    "        names = [self.name]\n",
    "        for child in self.children:\n",
    "            names.append(child.show_name())\n",
    "        return ' -> '.join(names)\n",
    "\n",
    "# Uso del patrón Composite\n",
    "if __name__ == \"__main__\":\n",
    "    marketing = Department(\"Marketing\")\n",
    "    sales = Department(\"Sales\")\n",
    "\n",
    "    marketing.add(Employee(\"John\"))\n",
    "    marketing.add(Employee(\"Alice\"))\n",
    "\n",
    "    sales.add(Employee(\"Bob\"))\n",
    "    sales.add(Employee(\"Carol\"))\n",
    "\n",
    "    company = Department(\"Company\")\n",
    "    company.add(marketing)\n",
    "    company.add(sales)\n",
    "\n",
    "    print(company.show_name())"
   ]
  },
  {
   "cell_type": "markdown",
   "metadata": {},
   "source": [
    "En este ejemplo:\n",
    "\n",
    "- `Component` define la interfaz común para todos los componentes.\n",
    "- `Employee` es una hoja que representa a un empleado individual.\n",
    "- `Department` es un composite que representa un departamento que puede contener empleados individuales o subdepartamentos.\n",
    "- Al ejecutar el código, se imprime la estructura jerárquica de la empresa, mostrando los nombres de los departamentos y los empleados.\n",
    "\n",
    "Este patrón permite tratar tanto a los objetos compuestos como a los individuales de manera uniforme, lo que facilita la manipulación de estructuras jerárquicas de parte-todo."
   ]
  },
  {
   "cell_type": "markdown",
   "metadata": {},
   "source": [
    "## Decorator\n",
    "\n",
    "El patrón **Decorator** es un patrón de diseño estructural que permite agregar funcionalidad adicional a objetos dinámicamente sin modificar su estructura básica. Este patrón se basa en la composición en lugar de la herencia, lo que significa que permite a los objetos agregar nuevas características al envolverlos con objetos decoradores.\n",
    "\n",
    "\n",
    "![decorator](images/decorator.png)"
   ]
  },
  {
   "cell_type": "markdown",
   "metadata": {},
   "source": [
    "**Estructura del Patrón Decorator**:\n",
    "\n",
    "- **Componente:** Define la interfaz común para los objetos que pueden tener responsabilidades adicionales agregadas dinámicamente.\n",
    "\n",
    "- **Componente Concreto:** Implementa la interfaz del componente y define el comportamiento básico.\n",
    "\n",
    "- **Decorador:** Es una clase abstracta que contiene una referencia a un objeto del mismo tipo que el componente. También implementa la interfaz del componente y redirige las llamadas al objeto envuelto.\n",
    "\n",
    "- **Decorador Concreto:** Agrega funcionalidad adicional al componente. Puede envolver otros decoradores para agregar múltiples capas de funcionalidad."
   ]
  },
  {
   "cell_type": "markdown",
   "metadata": {},
   "source": [
    "Supongamos que tenemos una interfaz de `Coffee` y una implementación básica `SimpleCoffee`. Queremos agregar funcionalidades adicionales, como leche o crema, a nuestro café sin modificar la clase `SimpleCoffee`. Utilizaremos el patrón Decorator para lograr esto."
   ]
  },
  {
   "cell_type": "code",
   "execution_count": 3,
   "metadata": {},
   "outputs": [
    {
     "name": "stdout",
     "output_type": "stream",
     "text": [
      "Description: Simple Coffee Cost: 10\n",
      "Description: Simple Coffee, Milk Cost: 12\n",
      "Description: Simple Coffee, Cream Cost: 15\n"
     ]
    }
   ],
   "source": [
    "from abc import ABC, abstractmethod\n",
    "\n",
    "# Componente\n",
    "class Coffee(ABC):\n",
    "    @abstractmethod\n",
    "    def get_cost(self):\n",
    "        pass\n",
    "\n",
    "    @abstractmethod\n",
    "    def get_description(self):\n",
    "        pass\n",
    "\n",
    "# Componente Concreto\n",
    "class SimpleCoffee(Coffee):\n",
    "    def get_cost(self):\n",
    "        return 10\n",
    "\n",
    "    def get_description(self):\n",
    "        return \"Simple Coffee\"\n",
    "\n",
    "# Decorador\n",
    "class CoffeeDecorator(Coffee):\n",
    "    def __init__(self, decorated_coffee):\n",
    "        self.decorated_coffee = decorated_coffee\n",
    "\n",
    "    def get_cost(self):\n",
    "        return self.decorated_coffee.get_cost()\n",
    "\n",
    "    def get_description(self):\n",
    "        return self.decorated_coffee.get_description()\n",
    "\n",
    "# Decorador Concreto\n",
    "class Milk(CoffeeDecorator):\n",
    "    def __init__(self, decorated_coffee):\n",
    "        super().__init__(decorated_coffee)\n",
    "\n",
    "    def get_cost(self):\n",
    "        return self.decorated_coffee.get_cost() + 2\n",
    "\n",
    "    def get_description(self):\n",
    "        return self.decorated_coffee.get_description() + \", Milk\"\n",
    "\n",
    "# Decorador Concreto\n",
    "class Cream(CoffeeDecorator):\n",
    "    def __init__(self, decorated_coffee):\n",
    "        super().__init__(decorated_coffee)\n",
    "\n",
    "    def get_cost(self):\n",
    "        return self.decorated_coffee.get_cost() + 5\n",
    "\n",
    "    def get_description(self):\n",
    "        return self.decorated_coffee.get_description() + \", Cream\"\n",
    "\n",
    "# Uso del patrón Decorator\n",
    "if __name__ == \"__main__\":\n",
    "    coffee = SimpleCoffee()\n",
    "    print(\"Description:\", coffee.get_description(), \"Cost:\", coffee.get_cost())\n",
    "\n",
    "    coffee_with_milk = Milk(coffee)\n",
    "    print(\"Description:\", coffee_with_milk.get_description(), \"Cost:\", coffee_with_milk.get_cost())\n",
    "\n",
    "    coffee_with_cream = Cream(coffee)\n",
    "    print(\"Description:\", coffee_with_cream.get_description(), \"Cost:\", coffee_with_cream.get_cost())"
   ]
  },
  {
   "cell_type": "markdown",
   "metadata": {},
   "source": [
    "En este ejemplo:\n",
    "\n",
    "- `Coffee` es la interfaz común para los diferentes tipos de café.\n",
    "- `SimpleCoffee` es una implementación básica de `Coffee`.\n",
    "- `CoffeeDecorator` es la clase abstracta que define la estructura de los decoradores.\n",
    "- `Milk` y `Cream` son decoradores concretos que agregan funcionalidad adicional a un objeto de café.\n",
    "- Al ejecutar el código, se muestra cómo se puede agregar leche o crema a un café básico sin modificar la clase `SimpleCoffee`.\n",
    "\n",
    "El patrón Decorator permite agregar funcionalidades adicionales a los objetos existentes de forma dinámica y flexible, lo que hace que el código sea más modular y fácil de extender."
   ]
  },
  {
   "cell_type": "markdown",
   "metadata": {},
   "source": [
    "## Facade\n",
    "\n",
    "El patrón **Facade** es un patrón de diseño estructural que proporciona una interfaz unificada para un conjunto de interfaces en un subsistema. Este patrón define una interfaz de nivel superior que facilita el uso de un sistema más grande o complejo, ocultando la complejidad del sistema y proporcionando una interfaz simplificada para interactuar con él.\n",
    "\n",
    "\n",
    "\n",
    "![facade](images/facade.png)"
   ]
  },
  {
   "cell_type": "markdown",
   "metadata": {},
   "source": [
    "**Estructura del Patrón Facade**:\n",
    "\n",
    "- **Facade:** Proporciona una interfaz unificada para un conjunto de interfaces en un subsistema. Conoce qué clases del subsistema son responsables de una solicitud específica y delega las solicitudes del cliente a estas clases.\n",
    "\n",
    "- **Subsistema:** Consiste en un conjunto de clases que implementan funcionalidades específicas del sistema.\n",
    "\n",
    "Supongamos que tenemos un sistema de computación que consta de varias partes, como el procesador, la memoria y la unidad de almacenamiento. Utilizaremos el patrón Facade para proporcionar una interfaz simplificada para encender y apagar la computadora."
   ]
  },
  {
   "cell_type": "code",
   "execution_count": 4,
   "metadata": {},
   "outputs": [
    {
     "name": "stdout",
     "output_type": "stream",
     "text": [
      "CPU is booting\n",
      "Memory is loading\n",
      "Storage is reading\n",
      "\n",
      "Computer is running...\n",
      "\n",
      "Storage is writing\n",
      "Memory is free\n",
      "CPU is shutting down\n"
     ]
    }
   ],
   "source": [
    "# Subsistema\n",
    "class CPU:\n",
    "    def boot(self):\n",
    "        print(\"CPU is booting\")\n",
    "\n",
    "    def shutdown(self):\n",
    "        print(\"CPU is shutting down\")\n",
    "\n",
    "# Subsistema\n",
    "class Memory:\n",
    "    def load(self):\n",
    "        print(\"Memory is loading\")\n",
    "\n",
    "    def free(self):\n",
    "        print(\"Memory is free\")\n",
    "\n",
    "# Subsistema\n",
    "class Storage:\n",
    "    def read(self):\n",
    "        print(\"Storage is reading\")\n",
    "\n",
    "    def write(self):\n",
    "        print(\"Storage is writing\")\n",
    "\n",
    "# Facade\n",
    "class ComputerFacade:\n",
    "    def __init__(self):\n",
    "        self.cpu = CPU()\n",
    "        self.memory = Memory()\n",
    "        self.storage = Storage()\n",
    "\n",
    "    def start(self):\n",
    "        self.cpu.boot()\n",
    "        self.memory.load()\n",
    "        self.storage.read()\n",
    "\n",
    "    def shutdown(self):\n",
    "        self.storage.write()\n",
    "        self.memory.free()\n",
    "        self.cpu.shutdown()\n",
    "\n",
    "# Uso del patrón Facade\n",
    "if __name__ == \"__main__\":\n",
    "    computer = ComputerFacade()\n",
    "    computer.start()\n",
    "    print(\"\\nComputer is running...\\n\")\n",
    "    computer.shutdown()"
   ]
  },
  {
   "cell_type": "markdown",
   "metadata": {},
   "source": [
    "En este ejemplo:\n",
    "\n",
    "- `CPU`, `Memory` y `Storage` son subsistemas que representan diferentes partes de la computadora.\n",
    "- `ComputerFacade` es la fachada que proporciona una interfaz unificada para encender y apagar la computadora.\n",
    "- Al ejecutar el código, la fachada `ComputerFacade` oculta la complejidad del encendido y apagado de la computadora al cliente, proporcionando una interfaz simple para interactuar con el sistema.\n",
    "\n",
    "El patrón Facade promueve la simplicidad y el desacoplamiento al proporcionar una interfaz simplificada para un sistema más grande o complejo. Esto facilita el uso y la comprensión del sistema por parte del cliente."
   ]
  },
  {
   "cell_type": "markdown",
   "metadata": {},
   "source": [
    "## Flyweight\n",
    "\n",
    "El patrón **Flyweight** es un patrón de diseño estructural que se utiliza para minimizar el uso de memoria o el costo de la creación de objetos mediante el uso compartido de objetos similares. Este patrón se basa en el concepto de reutilización de objetos existentes en lugar de crear nuevos objetos, lo que ayuda a reducir el consumo de recursos y mejorar el rendimiento de la aplicación.\n",
    "\n",
    "![flyweight](images/flyweight.png)"
   ]
  },
  {
   "cell_type": "markdown",
   "metadata": {},
   "source": [
    "**Estructura del Patrón Flyweight**:\n",
    "\n",
    "- **Flyweight:** Define una interfaz mediante la cual los objetos flyweight pueden recibir y actuar sobre los datos compartidos. También almacena el estado intrínseco (compartido) de los objetos flyweight.\n",
    "\n",
    "- **ConcreteFlyweight:** Implementa la interfaz Flyweight y almacena el estado extrínseco (único) del objeto flyweight. El estado extrínseco no es compartido y debe ser proporcionado externamente.\n",
    "\n",
    "- **FlyweightFactory:** Crea y administra objetos flyweight. Almacena una pool de objetos flyweight y los proporciona a los clientes cuando se solicitan. Si un objeto flyweight ya existe en el pool, lo devuelve en lugar de crear uno nuevo.\n",
    "\n",
    "\n",
    "Supongamos que tenemos un sistema de procesamiento de texto donde necesitamos representar cada carácter del texto como un objeto flyweight para minimizar el uso de memoria. Utilizaremos el patrón Flyweight para lograr esto."
   ]
  },
  {
   "cell_type": "code",
   "execution_count": 5,
   "metadata": {},
   "outputs": [
    {
     "name": "stdout",
     "output_type": "stream",
     "text": [
      "Operation with intrinsic state 'A' and extrinsic state 'State 1'\n",
      "Operation with intrinsic state 'A' and extrinsic state 'State 2'\n",
      "Operation with intrinsic state 'B' and extrinsic state 'State 3'\n"
     ]
    }
   ],
   "source": [
    "class Flyweight:\n",
    "    def __init__(self, intrinsic_state):\n",
    "        self.intrinsic_state = intrinsic_state\n",
    "\n",
    "    def operation(self, extrinsic_state):\n",
    "        pass\n",
    "\n",
    "class ConcreteFlyweight(Flyweight):\n",
    "    def operation(self, extrinsic_state):\n",
    "        print(f\"Operation with intrinsic state '{self.intrinsic_state}' and extrinsic state '{extrinsic_state}'\")\n",
    "\n",
    "class FlyweightFactory:\n",
    "    def __init__(self):\n",
    "        self.flyweights = {}\n",
    "\n",
    "    def get_flyweight(self, intrinsic_state):\n",
    "        if intrinsic_state not in self.flyweights:\n",
    "            self.flyweights[intrinsic_state] = ConcreteFlyweight(intrinsic_state)\n",
    "        return self.flyweights[intrinsic_state]\n",
    "\n",
    "# Uso del patrón Flyweight\n",
    "if __name__ == \"__main__\":\n",
    "    factory = FlyweightFactory()\n",
    "    flyweight1 = factory.get_flyweight(\"A\")\n",
    "    flyweight2 = factory.get_flyweight(\"A\")\n",
    "\n",
    "    flyweight3 = factory.get_flyweight(\"B\")\n",
    "\n",
    "    flyweight1.operation(\"State 1\")\n",
    "    flyweight2.operation(\"State 2\")\n",
    "    flyweight3.operation(\"State 3\")"
   ]
  },
  {
   "cell_type": "markdown",
   "metadata": {},
   "source": [
    "En este ejemplo:\n",
    "\n",
    "- `Flyweight` define la interfaz para los objetos flyweight.\n",
    "- `ConcreteFlyweight` implementa la interfaz `Flyweight` y almacena el estado intrínseco.\n",
    "- `FlyweightFactory` crea y administra objetos flyweight. Almacena una pool de objetos flyweight y los proporciona a los clientes cuando se solicitan.\n",
    "\n",
    "Al ejecutar el código, se puede ver que el objeto flyweight \"A\" se comparte entre `flyweight1` y `flyweight2`, mientras que el objeto flyweight \"B\" es único para `flyweight3`. Esto demuestra cómo el patrón Flyweight puede minimizar el uso de memoria mediante el uso compartido de objetos similares."
   ]
  },
  {
   "cell_type": "markdown",
   "metadata": {},
   "source": [
    "## Proxy\n",
    "\n",
    "El patrón **Proxy** es un patrón de diseño estructural que proporciona un substituto o marcador de posición para otro objeto para controlar el acceso a ese objeto. El Proxy actúa como intermediario entre el cliente y el objeto real, permitiendo agregar funcionalidades adicionales como el control de acceso, la creación diferida, el almacenamiento en caché, etc.\n",
    "\n",
    "![proxy](images/proxy.png)"
   ]
  },
  {
   "cell_type": "markdown",
   "metadata": {},
   "source": [
    "**Estructura del Patrón Proxy**:\n",
    "\n",
    "- **Sujeto (Subject):** Define la interfaz común para el objeto real y el Proxy, de modo que el Proxy pueda ser utilizado en lugar del objeto real.\n",
    "\n",
    "- **Proxy:** Mantiene una referencia al objeto real y controla el acceso a él. Implementa la misma interfaz que el objeto real para que el cliente no sea consciente de que está utilizando un Proxy en lugar del objeto real.\n",
    "\n",
    "- **Sujeto Real (Real Subject):** Es el objeto real que el Proxy representa. El Proxy delega las solicitudes del cliente al Sujeto Real cuando sea necesario.\n",
    "\n",
    "\n",
    "Supongamos que tenemos una interfaz `Image` para cargar y mostrar imágenes. Queremos crear un Proxy para controlar el acceso a la carga de imágenes y mostrar un mensaje cuando se carga una imagen. "
   ]
  },
  {
   "cell_type": "code",
   "execution_count": 6,
   "metadata": {},
   "outputs": [
    {
     "name": "stdout",
     "output_type": "stream",
     "text": [
      "Loading image1.jpg\n",
      "Displaying image1.jpg\n",
      "Loading image2.jpg\n",
      "Displaying image2.jpg\n",
      "Displaying image2.jpg\n"
     ]
    }
   ],
   "source": [
    "from abc import ABC, abstractmethod\n",
    "\n",
    "# Sujeto\n",
    "class Image(ABC):\n",
    "    @abstractmethod\n",
    "    def display(self):\n",
    "        pass\n",
    "\n",
    "# Sujeto Real\n",
    "class RealImage(Image):\n",
    "    def __init__(self, filename):\n",
    "        self.filename = filename\n",
    "        self.load_from_disk()\n",
    "\n",
    "    def load_from_disk(self):\n",
    "        print(\"Loading\", self.filename)\n",
    "\n",
    "    def display(self):\n",
    "        print(\"Displaying\", self.filename)\n",
    "\n",
    "# Proxy\n",
    "class ProxyImage(Image):\n",
    "    def __init__(self, filename):\n",
    "        self.filename = filename\n",
    "        self.real_image = None\n",
    "\n",
    "    def display(self):\n",
    "        if self.real_image is None:\n",
    "            self.real_image = RealImage(self.filename)\n",
    "        self.real_image.display()\n",
    "\n",
    "# Uso del patrón Proxy\n",
    "if __name__ == \"__main__\":\n",
    "    image1 = ProxyImage(\"image1.jpg\")\n",
    "    image1.display()  # RealImage será creado y cargado desde el disco\n",
    "\n",
    "    image2 = ProxyImage(\"image2.jpg\")\n",
    "    image2.display()  # RealImage será creado y cargado desde el disco\n",
    "    image2.display()  # No se volverá a cargar RealImage, ya que está en caché"
   ]
  },
  {
   "cell_type": "markdown",
   "metadata": {},
   "source": [
    "En este ejemplo:\n",
    "\n",
    "- `Image` es la interfaz común para la carga y visualización de imágenes.\n",
    "- `RealImage` es el Sujeto Real que carga la imagen desde el disco.\n",
    "- `ProxyImage` es el Proxy que controla el acceso a la carga de imágenes. Cuando se llama al método `display()`, el Proxy carga la imagen solo cuando sea necesario.\n",
    "\n",
    "Al ejecutar el código, se puede observar que el Proxy carga la imagen real solo cuando se llama al método `display()`, lo que demuestra el control de acceso proporcionado por el patrón Proxy."
   ]
  },
  {
   "cell_type": "markdown",
   "metadata": {},
   "source": [
    "## Otros patrones\n",
    "\n",
    "**Módulo:**\n",
    "\n",
    "El patrón Módulo organiza un conjunto de clases y objetos relacionados en una estructura unificada y modular.\n",
    "\n",
    "**Composite-View:**\n",
    "\n",
    "El patrón Composite-View proporciona una forma de tratar las estructuras jerárquicas de objetos como objetos individuales.\n",
    "\n",
    "**Private Class Data:**\n",
    "\n",
    "El patrón Private Class Data controla el acceso a los datos de clase mediante la encapsulación de los datos dentro de un objeto de datos privado."
   ]
  }
 ],
 "metadata": {
  "kernelspec": {
   "display_name": "Python 3 (ipykernel)",
   "language": "python",
   "name": "python3"
  },
  "language_info": {
   "codemirror_mode": {
    "name": "ipython",
    "version": 3
   },
   "file_extension": ".py",
   "mimetype": "text/x-python",
   "name": "python",
   "nbconvert_exporter": "python",
   "pygments_lexer": "ipython3",
   "version": "3.8.10"
  },
  "nbTranslate": {
   "displayLangs": [
    "*"
   ],
   "hotkey": "alt-t",
   "langInMainMenu": true,
   "sourceLang": "en",
   "targetLang": "fr",
   "useGoogleTranslate": true
  }
 },
 "nbformat": 4,
 "nbformat_minor": 4
}
