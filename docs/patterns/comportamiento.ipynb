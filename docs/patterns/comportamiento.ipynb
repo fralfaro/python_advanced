{
 "cells": [
  {
   "cell_type": "markdown",
   "metadata": {},
   "source": [
    "# Patrones de comportamiento\n",
    "\n",
    "Los **patrones de comportamiento** son un conjunto de patrones de diseño en ingeniería de software que se utilizan para gestionar algoritmos, relaciones y responsabilidades entre objetos. Estos patrones se centran en cómo los objetos interactúan entre sí y cómo se distribuyen las responsabilidades entre ellos."
   ]
  },
  {
   "cell_type": "markdown",
   "metadata": {},
   "source": [
    "## Chain of Responsibility\n",
    "\n",
    "El patrón **Chain of Responsibility** es un patrón de diseño comportamental que se utiliza para evitar acoplar el remitente de una solicitud con su receptor al dar a más de un objeto la oportunidad de manejar la solicitud. El patrón consiste en una cadena de objetos receptores (o manejadores) y un único objeto remitente. Cada objeto receptor contiene una referencia al siguiente objeto en la cadena. Si un objeto no puede manejar la solicitud, la pasa al siguiente objeto en la cadena.\n",
    "\n",
    "```{mermaid}\n",
    "classDiagram\n",
    "    class Handler {\n",
    "        + set_next(handler)\n",
    "        + handle(request)\n",
    "    }\n",
    "\n",
    "    class ConcreteHandler1 {\n",
    "        - _next_handler: Handler\n",
    "        + __init__()\n",
    "        + set_next(handler)\n",
    "        + handle(request)\n",
    "    }\n",
    "\n",
    "    class ConcreteHandler2 {\n",
    "        - _next_handler: Handler\n",
    "        + __init__()\n",
    "        + set_next(handler)\n",
    "        + handle(request)\n",
    "    }\n",
    "\n",
    "    Handler <|-- ConcreteHandler1\n",
    "    Handler <|-- ConcreteHandler2\n",
    "```"
   ]
  },
  {
   "cell_type": "code",
   "execution_count": 1,
   "metadata": {},
   "outputs": [],
   "source": [
    "from abc import ABC, abstractmethod\n",
    "\n",
    "class Handler(ABC):\n",
    "    @abstractmethod\n",
    "    def set_next(self, handler):\n",
    "        pass\n",
    "    \n",
    "    @abstractmethod\n",
    "    def handle(self, request):\n",
    "        pass\n",
    "\n",
    "class ConcreteHandler1(Handler):\n",
    "    def __init__(self):\n",
    "        self._next_handler = None\n",
    "    \n",
    "    def set_next(self, handler):\n",
    "        self._next_handler = handler\n",
    "    \n",
    "    def handle(self, request):\n",
    "        if request == \"request1\":\n",
    "            return f\"ConcreteHandler1: Handling {request}\"\n",
    "        elif self._next_handler:\n",
    "            return self._next_handler.handle(request)\n",
    "        else:\n",
    "            return f\"ConcreteHandler1: Cannot handle {request}\"\n",
    "\n",
    "class ConcreteHandler2(Handler):\n",
    "    def __init__(self):\n",
    "        self._next_handler = None\n",
    "    \n",
    "    def set_next(self, handler):\n",
    "        self._next_handler = handler\n",
    "    \n",
    "    def handle(self, request):\n",
    "        if request == \"request2\":\n",
    "            return f\"ConcreteHandler2: Handling {request}\"\n",
    "        elif self._next_handler:\n",
    "            return self._next_handler.handle(request)\n",
    "        else:\n",
    "            return f\"ConcreteHandler2: Cannot handle {request}\""
   ]
  },
  {
   "cell_type": "code",
   "execution_count": 2,
   "metadata": {},
   "outputs": [
    {
     "name": "stdout",
     "output_type": "stream",
     "text": [
      "ConcreteHandler1: Handling request1\n",
      "ConcreteHandler2: Handling request2\n",
      "ConcreteHandler2: Cannot handle request3\n"
     ]
    }
   ],
   "source": [
    "# Uso del patrón Chain of Responsibility\n",
    "handler1 = ConcreteHandler1()\n",
    "handler2 = ConcreteHandler2()\n",
    "\n",
    "handler1.set_next(handler2)\n",
    "\n",
    "requests = [\"request1\", \"request2\", \"request3\"]\n",
    "\n",
    "for request in requests:\n",
    "    result = handler1.handle(request)\n",
    "    print(result)"
   ]
  },
  {
   "cell_type": "markdown",
   "metadata": {},
   "source": [
    "En este ejemplo:\n",
    "\n",
    "- `Handler` es una clase abstracta que define la interfaz para manejar solicitudes y establecer el siguiente manejador en la cadena.\n",
    "- `ConcreteHandler1` y `ConcreteHandler2` son implementaciones concretas de `Handler` que manejan solicitudes específicas o pasan las solicitudes al siguiente manejador en la cadena si no pueden manejarlas.\n",
    "- Cada `ConcreteHandler` tiene un método `set_next()` para establecer el siguiente manejador en la cadena y un método `handle()` para manejar la solicitud o pasarla al siguiente manejador.\n",
    "- En el bucle `for`, se pasa cada solicitud a través de la cadena de responsabilidad, y cada manejador intenta manejar la solicitud o la pasa al siguiente manejador si no puede manejarla.\n",
    "\n",
    "Este patrón permite que varios objetos tengan la oportunidad de manejar una solicitud sin conocer los detalles de implementación de los otros objetos, lo que promueve la flexibilidad y la extensibilidad en el diseño del software."
   ]
  },
  {
   "cell_type": "markdown",
   "metadata": {},
   "source": [
    "## Command\n",
    "\n",
    "El patrón **Command** es un patrón de diseño comportamental que encapsula una solicitud como un objeto, permitiendo así parametrizar clientes con solicitudes, encolar solicitudes, y realizar operaciones reversibles. Este patrón desacopla el objeto que realiza la solicitud (cliente) del objeto que sabe cómo realizar la solicitud (invocador), permitiendo mayor flexibilidad en el diseño del sistema.\n",
    "\n",
    "```{mermaid}\n",
    "classDiagram\n",
    "    class Command {\n",
    "        + execute()\n",
    "    }\n",
    "\n",
    "    class LightOnCommand {\n",
    "        - _light: Light\n",
    "        + __init__(light)\n",
    "        + execute()\n",
    "    }\n",
    "\n",
    "    class Light {\n",
    "        + turn_on()\n",
    "    }\n",
    "\n",
    "    class RemoteControl {\n",
    "        - _command: Command\n",
    "        + __init__()\n",
    "        + set_command(command)\n",
    "        + press_button()\n",
    "    }\n",
    "\n",
    "    Command <|-- LightOnCommand\n",
    "```"
   ]
  },
  {
   "cell_type": "code",
   "execution_count": 3,
   "metadata": {},
   "outputs": [],
   "source": [
    "from abc import ABC, abstractmethod\n",
    "\n",
    "# Interfaz Command\n",
    "class Command(ABC):\n",
    "    @abstractmethod\n",
    "    def execute(self):\n",
    "        pass\n",
    "\n",
    "# ConcreteCommand\n",
    "class LightOnCommand(Command):\n",
    "    def __init__(self, light):\n",
    "        self._light = light\n",
    "    \n",
    "    def execute(self):\n",
    "        self._light.turn_on()\n",
    "\n",
    "# Receiver\n",
    "class Light:\n",
    "    def turn_on(self):\n",
    "        print(\"Light is turned on\")\n",
    "\n",
    "# Invoker\n",
    "class RemoteControl:\n",
    "    def __init__(self):\n",
    "        self._command = None\n",
    "    \n",
    "    def set_command(self, command):\n",
    "        self._command = command\n",
    "    \n",
    "    def press_button(self):\n",
    "        if self._command:\n",
    "            self._command.execute()"
   ]
  },
  {
   "cell_type": "code",
   "execution_count": 4,
   "metadata": {},
   "outputs": [
    {
     "name": "stdout",
     "output_type": "stream",
     "text": [
      "Light is turned on\n"
     ]
    }
   ],
   "source": [
    "# Cliente\n",
    "light = Light()\n",
    "light_on_command = LightOnCommand(light)\n",
    "\n",
    "remote_control = RemoteControl()\n",
    "remote_control.set_command(light_on_command)\n",
    "remote_control.press_button()  # Salida: Light is turned on"
   ]
  },
  {
   "cell_type": "markdown",
   "metadata": {},
   "source": [
    "En este ejemplo:\n",
    "\n",
    "- `Command` es una interfaz que define el método `execute()`.\n",
    "- `LightOnCommand` es una implementación concreta de `Command` que conoce cómo ejecutar la acción de encender una luz.\n",
    "- `Light` es el receptor que contiene la lógica para llevar a cabo la acción de encender la luz.\n",
    "- `RemoteControl` es el invocador que contiene una referencia al objeto `Command` y puede ejecutar el método `execute()` del `Command`.\n",
    "- El cliente crea una instancia de `Light`, `LightOnCommand`, y `RemoteControl`, configura el `RemoteControl` con el `LightOnCommand`, y finalmente presiona el botón en el `RemoteControl`.\n",
    "\n",
    "Este patrón permite desacoplar el objeto que realiza la solicitud (cliente) del objeto que conoce cómo realizar la solicitud (invocador), lo que proporciona flexibilidad y extensibilidad en el diseño del sistema. Además, permite encolar solicitudes, deshacer acciones y rehacerlas."
   ]
  },
  {
   "cell_type": "markdown",
   "metadata": {},
   "source": [
    "## Interpreter\n",
    "\n",
    "El patrón **Interpreter** es un patrón de diseño comportamental que se utiliza para interpretar un lenguaje, proporcionando una manera de evaluar el lenguaje de expresión gramatical o sintácticamente. Este patrón define una gramática para un lenguaje y proporciona un intérprete para interpretar sentencias en ese lenguaje.\n",
    "\n",
    "```{mermaid}\n",
    "classDiagram\n",
    "    class Context {\n",
    "        - _variables: dict\n",
    "        + __init__()\n",
    "        + set_variable(variable, value)\n",
    "        + get_variable(variable)\n",
    "    }\n",
    "\n",
    "    class Expression {\n",
    "        + interpret(context)\n",
    "    }\n",
    "\n",
    "    class NumberExpression {\n",
    "        - _value: int\n",
    "        + __init__(value)\n",
    "        + interpret(context)\n",
    "    }\n",
    "\n",
    "    class AddExpression {\n",
    "        - _left: Expression\n",
    "        - _right: Expression\n",
    "        + __init__(left, right)\n",
    "        + interpret(context)\n",
    "    }\n",
    "\n",
    "    class SubtractExpression {\n",
    "        - _left: Expression\n",
    "        - _right: Expression\n",
    "        + __init__(left, right)\n",
    "        + interpret(context)\n",
    "    }\n",
    "\n",
    "    Context o-- Expression\n",
    "    Expression <|-- NumberExpression\n",
    "    Expression <|-- AddExpression\n",
    "    Expression <|-- SubtractExpression\n",
    "```"
   ]
  },
  {
   "cell_type": "code",
   "execution_count": 5,
   "metadata": {},
   "outputs": [],
   "source": [
    "from abc import ABC, abstractmethod\n",
    "\n",
    "# Contexto\n",
    "class Context:\n",
    "    def __init__(self):\n",
    "        self._variables = {}\n",
    "    \n",
    "    def set_variable(self, variable, value):\n",
    "        self._variables[variable] = value\n",
    "    \n",
    "    def get_variable(self, variable):\n",
    "        return self._variables.get(variable, 0)\n",
    "\n",
    "# Expresión abstracta\n",
    "class Expression(ABC):\n",
    "    @abstractmethod\n",
    "    def interpret(self, context):\n",
    "        pass\n",
    "\n",
    "# Expresión Terminal\n",
    "class NumberExpression(Expression):\n",
    "    def __init__(self, value):\n",
    "        self._value = value\n",
    "    \n",
    "    def interpret(self, context):\n",
    "        return self._value\n",
    "\n",
    "# Expresión No Terminal\n",
    "class AddExpression(Expression):\n",
    "    def __init__(self, left, right):\n",
    "        self._left = left\n",
    "        self._right = right\n",
    "    \n",
    "    def interpret(self, context):\n",
    "        return self._left.interpret(context) + self._right.interpret(context)\n",
    "\n",
    "# Expresión No Terminal\n",
    "class SubtractExpression(Expression):\n",
    "    def __init__(self, left, right):\n",
    "        self._left = left\n",
    "        self._right = right\n",
    "    \n",
    "    def interpret(self, context):\n",
    "        return self._left.interpret(context) - self._right.interpret(context)"
   ]
  },
  {
   "cell_type": "code",
   "execution_count": 6,
   "metadata": {},
   "outputs": [
    {
     "name": "stdout",
     "output_type": "stream",
     "text": [
      "Result: 12\n"
     ]
    }
   ],
   "source": [
    "# Uso del patrón Interpreter\n",
    "# Crear el contexto\n",
    "context = Context()\n",
    "context.set_variable(\"x\", 10)\n",
    "context.set_variable(\"y\", 5)\n",
    "    \n",
    "# Crear las expresiones\n",
    "expression = AddExpression(NumberExpression(context.get_variable(\"x\")), \n",
    "                           SubtractExpression(NumberExpression(context.get_variable(\"y\")), \n",
    "                                             NumberExpression(3)))\n",
    "    \n",
    "# Interpretar la expresión\n",
    "result = expression.interpret(context)\n",
    "print(\"Result:\", result)  # Salida: 12"
   ]
  },
  {
   "cell_type": "markdown",
   "metadata": {},
   "source": [
    "En este ejemplo:\n",
    "\n",
    "- `Context` es el contexto que contiene información global para las expresiones.\n",
    "- `Expression` es la interfaz para las expresiones. Define el método `interpret()` que todas las expresiones deben implementar.\n",
    "- `NumberExpression` es una expresión terminal que interpreta un número.\n",
    "- `AddExpression` y `SubtractExpression` son expresiones no terminales que interpretan las operaciones de suma y resta, respectivamente.\n",
    "- El cliente crea un contexto, establece las variables necesarias, crea las expresiones y finalmente interpreta la expresión con respecto al contexto.\n",
    "\n",
    "Este patrón es útil cuando se tiene que implementar un lenguaje específico, como un lenguaje de consulta o un lenguaje de expresión. Permite evaluar sentencias o expresiones gramaticales de manera eficiente y modular."
   ]
  },
  {
   "cell_type": "markdown",
   "metadata": {},
   "source": [
    "## Otros Patrones"
   ]
  },
  {
   "cell_type": "markdown",
   "metadata": {},
   "source": [
    "**Observer (Observador):**\n",
    "\n",
    "El patrón Observer define una dependencia uno a muchos entre objetos, de manera que cuando un objeto cambia su estado, todos los objetos que dependen de él son notificados y actualizados automáticamente.\n",
    "\n",
    "**Strategy (Estrategia):**\n",
    "\n",
    "El patrón Strategy define una familia de algoritmos, encapsula cada uno de ellos y los hace intercambiables. Permite que el algoritmo varíe independientemente de los clientes que lo utilizan.\n",
    "\n",
    "**Iterator (Iterador):**\n",
    "\n",
    "El patrón Iterator proporciona una forma de acceder secuencialmente a los elementos de una colección sin exponer su representación subyacente.\n",
    "\n",
    "**State (Estado):**\n",
    "\n",
    "El patrón State permite que un objeto altere su comportamiento cuando su estado interno cambia. El objeto parecerá cambiar de clase.\n",
    "\n",
    "**Memento:**\n",
    "\n",
    "El patrón Memento permite capturar y restaurar el estado interno de un objeto sin violar la encapsulación.\n",
    "\n",
    "**Visitor (Visitante):**\n",
    "\n",
    "El patrón Visitor define una nueva operación para una colección de objetos sin cambiar las clases de los objetos en sí.\n",
    "\n",
    "**Template Method (Método Plantilla):**\n",
    "\n",
    "El patrón Template Method define el esqueleto de un algoritmo en una operación, dejando que las subclases redefinan ciertos pasos del algoritmo sin cambiar su estructura general.\n"
   ]
  }
 ],
 "metadata": {
  "kernelspec": {
   "display_name": "Python 3 (ipykernel)",
   "language": "python",
   "name": "python3"
  },
  "language_info": {
   "codemirror_mode": {
    "name": "ipython",
    "version": 3
   },
   "file_extension": ".py",
   "mimetype": "text/x-python",
   "name": "python",
   "nbconvert_exporter": "python",
   "pygments_lexer": "ipython3",
   "version": "3.8.10"
  },
  "nbTranslate": {
   "displayLangs": [
    "*"
   ],
   "hotkey": "alt-t",
   "langInMainMenu": true,
   "sourceLang": "en",
   "targetLang": "fr",
   "useGoogleTranslate": true
  }
 },
 "nbformat": 4,
 "nbformat_minor": 4
}
