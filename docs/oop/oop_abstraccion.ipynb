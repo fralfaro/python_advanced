{
 "cells": [
  {
   "cell_type": "markdown",
   "metadata": {},
   "source": [
    "# Abstracción \n",
    "\n",
    "La **abstracción** es un termino que hace referencia a la ocultación de la complejidad intrínseca de una aplicación al exterior, centrándose sólo en como puede ser usada, lo que se conoce como **interfaz** (o clases abstractas).\n",
    "\n",
    "En términos simples, la abstracción permite a los programadores enfocarse en la funcionalidad importante de un objeto sin preocuparse por cómo se implementa internamente esa funcionalidad."
   ]
  },
  {
   "cell_type": "markdown",
   "metadata": {},
   "source": [
    "<img src=\"https://pythonprogramminglanguage.com/wp-content/uploads/2020/02/abstract-base-class.png\" alt=\"Descripción de la imagen\" width=\"350\">"
   ]
  },
  {
   "cell_type": "markdown",
   "metadata": {},
   "source": [
    "Para poder crear clases abstractas en Python es necesario importar la clase `ABC` y el decorador `abstractmethod` del modulo `abc` (**Abstract Base Classes**).\n",
    "\n",
    "Un módulo que se encuentra en la librería estándar del lenguaje, por lo que no es necesario instalar. Así para definir una clase privada solamente se tiene que crear una clase heredada de `ABC` con un método abstracto."
   ]
  },
  {
   "cell_type": "code",
   "execution_count": 10,
   "metadata": {},
   "outputs": [],
   "source": [
    "from abc import ABC, abstractmethod\n",
    "\n",
    "class Animal(ABC):\n",
    "    @abstractmethod\n",
    "    def mover(self):\n",
    "        pass"
   ]
  },
  {
   "cell_type": "markdown",
   "metadata": {},
   "source": [
    "Ahora si se intenta crear una instancia de la clase animal, Python no lo permitirá indicando que no es posible. Es importante notar que que si la clase no hereda de `ABC` o contiene por lo menos un método abstracto, Python permitirá instancias las clases."
   ]
  },
  {
   "cell_type": "code",
   "execution_count": 11,
   "metadata": {},
   "outputs": [
    {
     "data": {
      "text/plain": [
       "<__main__.Animal at 0x1fece214f10>"
      ]
     },
     "execution_count": 11,
     "metadata": {},
     "output_type": "execute_result"
    }
   ],
   "source": [
    "class Animal(ABC):\n",
    "    def mover(self):\n",
    "        pass\n",
    "    \n",
    "Animal()"
   ]
  },
  {
   "cell_type": "code",
   "execution_count": 12,
   "metadata": {},
   "outputs": [
    {
     "data": {
      "text/plain": [
       "<__main__.Animal at 0x1fecea64430>"
      ]
     },
     "execution_count": 12,
     "metadata": {},
     "output_type": "execute_result"
    }
   ],
   "source": [
    "class Animal():\n",
    "    @abstractmethod\n",
    "    def mover(self):\n",
    "        pass\n",
    "    \n",
    "Animal()"
   ]
  },
  {
   "cell_type": "markdown",
   "metadata": {},
   "source": [
    "## Métodos en las subclases\n",
    "\n",
    "Las **subclases** tienen que implementar todos los métodos abstractos, en el caso de que falta alguno de ellos Python no permitirá instancias tampoco la clase hija."
   ]
  },
  {
   "cell_type": "code",
   "execution_count": 13,
   "metadata": {},
   "outputs": [],
   "source": [
    "# clase abstracta\n",
    "class Animal(ABC):\n",
    "    @abstractmethod\n",
    "    def mover(self):\n",
    "        pass\n",
    "    \n",
    "    @abstractmethod\n",
    "    def comer(self):\n",
    "        print('Animal come')\n",
    "\n",
    "# subclase\n",
    "class Gato(Animal):\n",
    "    def mover(self):\n",
    "        print('Mover gato')\n",
    "        \n",
    "    # falta implementar metodo comer()"
   ]
  },
  {
   "cell_type": "code",
   "execution_count": 14,
   "metadata": {},
   "outputs": [
    {
     "ename": "TypeError",
     "evalue": "Can't instantiate abstract class Gato with abstract methods comer",
     "output_type": "error",
     "traceback": [
      "\u001b[1;31m---------------------------------------------------------------------------\u001b[0m",
      "\u001b[1;31mTypeError\u001b[0m                                 Traceback (most recent call last)",
      "Cell \u001b[1;32mIn[14], line 1\u001b[0m\n\u001b[1;32m----> 1\u001b[0m g \u001b[38;5;241m=\u001b[39m \u001b[43mGato\u001b[49m\u001b[43m(\u001b[49m\u001b[43m)\u001b[49m \u001b[38;5;66;03m# Error\u001b[39;00m\n",
      "\u001b[1;31mTypeError\u001b[0m: Can't instantiate abstract class Gato with abstract methods comer"
     ]
    }
   ],
   "source": [
    "g = Gato() # Error"
   ]
  },
  {
   "cell_type": "markdown",
   "metadata": {},
   "source": [
    "Escribamos el ejemplo correctamente:"
   ]
  },
  {
   "cell_type": "code",
   "execution_count": 6,
   "metadata": {},
   "outputs": [],
   "source": [
    "# clase abstracta\n",
    "class Animal(ABC):\n",
    "    @abstractmethod\n",
    "    def mover(self):\n",
    "        pass\n",
    "    \n",
    "    @abstractmethod\n",
    "    def comer(self):\n",
    "        print('Animal come')\n",
    "\n",
    "# subclase\n",
    "class Gato(Animal):\n",
    "    def mover(self):\n",
    "        print('Mover gato')\n",
    "        \n",
    "    def comer(self):\n",
    "        print('Gato come')"
   ]
  },
  {
   "cell_type": "code",
   "execution_count": 7,
   "metadata": {},
   "outputs": [],
   "source": [
    "g = Gato()"
   ]
  },
  {
   "cell_type": "code",
   "execution_count": 8,
   "metadata": {},
   "outputs": [
    {
     "name": "stdout",
     "output_type": "stream",
     "text": [
      "Mover gato\n"
     ]
    }
   ],
   "source": [
    "g.mover()"
   ]
  },
  {
   "cell_type": "code",
   "execution_count": 9,
   "metadata": {},
   "outputs": [
    {
     "name": "stdout",
     "output_type": "stream",
     "text": [
      "Gato come\n"
     ]
    }
   ],
   "source": [
    "g.comer()"
   ]
  }
 ],
 "metadata": {
  "kernelspec": {
   "display_name": "Python 3 (ipykernel)",
   "language": "python",
   "name": "python3"
  },
  "language_info": {
   "codemirror_mode": {
    "name": "ipython",
    "version": 3
   },
   "file_extension": ".py",
   "mimetype": "text/x-python",
   "name": "python",
   "nbconvert_exporter": "python",
   "pygments_lexer": "ipython3",
   "version": "3.8.10"
  },
  "nbTranslate": {
   "displayLangs": [
    "*"
   ],
   "hotkey": "alt-t",
   "langInMainMenu": true,
   "sourceLang": "en",
   "targetLang": "fr",
   "useGoogleTranslate": true
  }
 },
 "nbformat": 4,
 "nbformat_minor": 4
}
