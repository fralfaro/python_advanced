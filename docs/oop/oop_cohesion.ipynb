{
 "cells": [
  {
   "cell_type": "markdown",
   "metadata": {},
   "source": [
    "<a href=\"https://colab.research.google.com/github/fralfaro/python_advanced/blob/main/docs/oop/oop_cohesion.ipynb\" target=\"_parent\"><img src=\"https://colab.research.google.com/assets/colab-badge.svg\" alt=\"Open In Colab\"/></a>\n",
    "\n",
    "# Cohesión \n",
    "\n",
    "La **cohesión** hace referencia al grado de relación entre los elementos de un módulo. En el diseño de una función, es importante pensar bien la tarea que va a realizar, intentando que sea única y bien definida. "
   ]
  },
  {
   "cell_type": "markdown",
   "metadata": {},
   "source": [
    "Cuantas más cosas diferentes haga una función sin relación entre sí, más complicado será el código de entender. Existen por lo tanto dos tipos de cohesión:\n",
    "\n",
    " * La **Alta Cohesión (Fuerte)** que indica que la relación entre los elementos es baja. Es decir, no pertenecen a una única funcionalidad.\n",
    " * La **Baja Cohesión (Débil):**, que debe ser nuestro objetivo al diseñar programas. La cohesión fuerte indica que existe una alta relación entre los elementos existentes dentro del módulo.\n",
    " \n",
    " <img src=\"https://2.bp.blogspot.com/-yywp-mxa4Ic/W2aVlgrYFzI/AAAAAAAAC_c/IomDRMX-g_cKsdKvxIX5BmLC5L0jKDzNQCLcBGAs/w1200-h630-p-k-no-nu/Cohesion.png\" alt=\"Descripción de la imagen\" width=\"450\">"
   ]
  },
  {
   "cell_type": "markdown",
   "metadata": {},
   "source": [
    "## Alta Cohesión (Fuerte):\n",
    "\n",
    "En este ejemplo, crearemos una clase llamada `Calculadora` que tiene métodos para realizar diferentes operaciones matemáticas. Todos los métodos están relacionados con la misma tarea principal: realizar cálculos matemáticos."
   ]
  },
  {
   "cell_type": "code",
   "execution_count": 1,
   "metadata": {},
   "outputs": [],
   "source": [
    "class Calculadora:\n",
    "    def sumar(self, a, b):\n",
    "        return a + b\n",
    "    \n",
    "    def restar(self, a, b):\n",
    "        return a - b\n",
    "    \n",
    "    def multiplicar(self, a, b):\n",
    "        return a * b\n",
    "    \n",
    "    def dividir(self, a, b):\n",
    "        return a / b"
   ]
  },
  {
   "cell_type": "markdown",
   "metadata": {},
   "source": [
    "En este caso, todos los métodos de la clase `Calculadora` están relacionados entre sí y se centran en la misma tarea: realizar operaciones matemáticas. Esto indica una alta cohesión, ya que todos los elementos de la clase están fuertemente relacionados y trabajan juntos para lograr un propósito común."
   ]
  },
  {
   "cell_type": "markdown",
   "metadata": {},
   "source": [
    "## Baja Cohesión (Débil):\n",
    "\n",
    "En este ejemplo, crearemos una clase llamada `Utilidades` que tiene métodos para realizar operaciones matemáticas y operaciones de cadena de texto. Estos métodos realizan tareas completamente diferentes y no están relacionados entre sí."
   ]
  },
  {
   "cell_type": "code",
   "execution_count": 2,
   "metadata": {},
   "outputs": [],
   "source": [
    "class Utilidades:\n",
    "    def sumar(self, a, b):\n",
    "        return a + b\n",
    "    \n",
    "    def longitud_cadena(self, cadena):\n",
    "        return len(cadena)"
   ]
  },
  {
   "cell_type": "markdown",
   "metadata": {},
   "source": [
    "En este caso, los métodos `sumar` y `longitud_cadena` no están relacionados entre sí. Uno realiza una operación matemática mientras que el otro trabaja con cadenas de texto. Esto indica una baja cohesión, ya que los elementos de la clase `Utilidades` no están centrados en una única tarea o responsabilidad, sino que realizan tareas diferentes y no relacionadas."
   ]
  }
 ],
 "metadata": {
  "kernelspec": {
   "display_name": "Python 3 (ipykernel)",
   "language": "python",
   "name": "python3"
  },
  "language_info": {
   "codemirror_mode": {
    "name": "ipython",
    "version": 3
   },
   "file_extension": ".py",
   "mimetype": "text/x-python",
   "name": "python",
   "nbconvert_exporter": "python",
   "pygments_lexer": "ipython3",
   "version": "3.8.10"
  },
  "nbTranslate": {
   "displayLangs": [
    "*"
   ],
   "hotkey": "alt-t",
   "langInMainMenu": true,
   "sourceLang": "en",
   "targetLang": "fr",
   "useGoogleTranslate": true
  }
 },
 "nbformat": 4,
 "nbformat_minor": 4
}
