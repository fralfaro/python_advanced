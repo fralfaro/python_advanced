{
 "cells": [
  {
   "cell_type": "markdown",
   "metadata": {},
   "source": [
    "# Acoplamiento en programación"
   ]
  },
  {
   "cell_type": "markdown",
   "metadata": {},
   "source": [
    "El **acoplamiento** se refiere al grado de interdependencia entre diferentes partes de un programa, especialmente entre clases. Un acoplamiento alto indica una fuerte interdependencia, lo que significa que los cambios en una parte del programa pueden tener un impacto significativo en otras partes. Por otro lado, un acoplamiento bajo indica una débil interdependencia, lo que significa que las partes del programa están menos relacionadas entre sí y los cambios en una parte tienen un impacto limitado en otras partes."
   ]
  },
  {
   "cell_type": "markdown",
   "metadata": {},
   "source": [
    "**Definiciones**:\n",
    "\n",
    "- **Acoplamiento Fuerte:** Ocurre cuando las clases o módulos dependen estrechamente entre sí. Un cambio en una clase o módulo puede requerir cambios significativos en otras clases o módulos.\n",
    "- **Acoplamiento Débil:** Ocurre cuando las clases o módulos dependen débilmente entre sí. Un cambio en una clase o módulo tiene un impacto mínimo en otras clases o módulos.\n",
    "\n",
    "<img src=\"https://1.bp.blogspot.com/-9hwNZEx-nS0/W2aVIMTcjcI/AAAAAAAAC_Q/blir2pNokKcbjPUKUl7o6ZeBs5efhwr5gCLcBGAs/s1600/coupling.png\" alt=\"Descripción de la imagen\" width=\"450\">"
   ]
  },
  {
   "cell_type": "markdown",
   "metadata": {},
   "source": [
    "## Acoplamiento Fuerte"
   ]
  },
  {
   "cell_type": "code",
   "execution_count": 1,
   "metadata": {},
   "outputs": [],
   "source": [
    "class Usuario:\n",
    "    def __init__(self, nombre):\n",
    "        self.nombre = nombre\n",
    "    \n",
    "    def mostrar_nombre(self):\n",
    "        return self.nombre\n",
    "\n",
    "class Saludo:\n",
    "    def __init__(self):\n",
    "        self.usuario = Usuario(\"Juan\")\n",
    "    \n",
    "    def saludar(self):\n",
    "        print(\"¡Hola,\", self.usuario.mostrar_nombre() + \"!\")"
   ]
  },
  {
   "cell_type": "markdown",
   "metadata": {},
   "source": [
    "En este ejemplo, la clase `Saludo` está fuertemente acoplada a la clase `Usuario`. El método `saludar()` de la clase `Saludo` depende directamente del método `mostrar_nombre()` de la clase `Usuario`. Si se cambia el nombre del método `mostrar_nombre()` en la clase `Usuario`, también se debería cambiar en la clase `Saludo`.\n",
    "\n",
    "## Acoplamiento Débil"
   ]
  },
  {
   "cell_type": "code",
   "execution_count": 2,
   "metadata": {},
   "outputs": [],
   "source": [
    "class Usuario:\n",
    "    def __init__(self, nombre):\n",
    "        self.nombre = nombre\n",
    "\n",
    "class Saludo:\n",
    "    def __init__(self, usuario):\n",
    "        self.usuario = usuario\n",
    "    \n",
    "    def saludar(self):\n",
    "        print(\"¡Hola,\", self.usuario.nombre + \"!\")"
   ]
  },
  {
   "cell_type": "markdown",
   "metadata": {},
   "source": [
    "En este ejemplo, la clase `Saludo` tiene una dependencia débil de la clase `Usuario`. En lugar de crear una instancia de `Usuario` dentro de `Saludo`, se pasa una instancia de `Usuario` como parámetro al constructor de `Saludo`. Esto hace que `Saludo` no esté directamente acoplado a la implementación específica de `Usuario`, sino que depende solo de la interfaz proporcionada por `Usuario`."
   ]
  },
  {
   "cell_type": "markdown",
   "metadata": {},
   "source": [
    "## Diferencias y Similitudes entre cohesión y acoplamiento\n",
    "\n",
    "\n",
    "* **Diferencias**: La cohesión se centra en la relación entre los elementos internos de un módulo o clase, mientras que el acoplamiento se centra en la relación entre diferentes módulos o clases. La cohesión se refiere a cómo los elementos internos de una unidad de código están relacionados entre sí, mientras que el acoplamiento se refiere a cómo diferentes unidades de código dependen entre sí.\n",
    "\n",
    "\n",
    "* **Similitudes**: Tanto la cohesión como el acoplamiento son métricas utilizadas para evaluar la calidad del diseño del software. Ambos conceptos se centran en la relación entre las diferentes partes del programa y cómo afecta la facilidad de mantenimiento, reutilización y flexibilidad del código."
   ]
  }
 ],
 "metadata": {
  "kernelspec": {
   "display_name": "Python 3 (ipykernel)",
   "language": "python",
   "name": "python3"
  },
  "language_info": {
   "codemirror_mode": {
    "name": "ipython",
    "version": 3
   },
   "file_extension": ".py",
   "mimetype": "text/x-python",
   "name": "python",
   "nbconvert_exporter": "python",
   "pygments_lexer": "ipython3",
   "version": "3.8.10"
  },
  "nbTranslate": {
   "displayLangs": [
    "*"
   ],
   "hotkey": "alt-t",
   "langInMainMenu": true,
   "sourceLang": "en",
   "targetLang": "fr",
   "useGoogleTranslate": true
  }
 },
 "nbformat": 4,
 "nbformat_minor": 4
}
