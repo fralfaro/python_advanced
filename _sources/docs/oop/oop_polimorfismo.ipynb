{
 "cells": [
  {
   "cell_type": "markdown",
   "metadata": {},
   "source": [
    "# Polimorfismo en programación\n",
    "\n",
    "El **polimorfismo** es un concepto importante en la programación orientada a objetos que se refiere a la capacidad de objetos de diferentes clases de responder al mismo mensaje de diferentes maneras."
   ]
  },
  {
   "cell_type": "markdown",
   "metadata": {},
   "source": [
    "En Python, el polimorfismo se implementa a través de métodos con el mismo nombre en diferentes clases, pero con comportamientos diferentes.\n",
    "\n",
    "Hay dos tipos principales de polimorfismo:\n",
    "\n",
    "1. **Polimorfismo de sobreescritura (override):** Este tipo de polimorfismo ocurre cuando una subclase proporciona una implementación específica de un método que ya está definido en su clase base. La subclase \"sobrescribe\" el comportamiento del método de la clase base.\n",
    "\n",
    "2. **Polimorfismo de sobrecarga (overload):** Aunque Python no admite la sobrecarga de métodos (definir varios métodos con el mismo nombre pero con diferentes parámetros), es posible simularla usando parámetros opcionales o valores predeterminados.\n",
    "\n",
    "<img src=\"https://cs.lmu.edu/~ray/images/figures1uml.png\" alt=\"Descripción de la imagen\" width=\"450\">"
   ]
  },
  {
   "cell_type": "markdown",
   "metadata": {},
   "source": [
    "## Polimorfismo de Sobreescritura:"
   ]
  },
  {
   "cell_type": "code",
   "execution_count": 3,
   "metadata": {},
   "outputs": [
    {
     "name": "stdout",
     "output_type": "stream",
     "text": [
      "¡Guau!\n",
      "¡Miau!\n"
     ]
    }
   ],
   "source": [
    "class Animal:\n",
    "    def hacer_sonido(self):\n",
    "        pass\n",
    "\n",
    "class Perro(Animal):\n",
    "    def hacer_sonido(self):\n",
    "        return \"¡Guau!\"\n",
    "\n",
    "class Gato(Animal):\n",
    "    def hacer_sonido(self):\n",
    "        return \"¡Miau!\"\n",
    "\n",
    "# Crear instancias de las clases\n",
    "perro = Perro()\n",
    "gato = Gato()\n",
    "\n",
    "# Llamar al método hacer_sonido en diferentes objetos\n",
    "print(perro.hacer_sonido())  # Salida: ¡Guau!\n",
    "print(gato.hacer_sonido())   # Salida: ¡Miau!"
   ]
  },
  {
   "cell_type": "markdown",
   "metadata": {},
   "source": [
    "En este ejemplo, las clases `Perro` y `Gato` heredan de la clase base `Animal`. Cada una de ellas implementa su propio método `hacer_sonido()`, sobrescribiendo el comportamiento del método en la clase base.\n",
    "\n",
    "## Polimorfismo de Sobrecarga (Simulado):"
   ]
  },
  {
   "cell_type": "code",
   "execution_count": 4,
   "metadata": {},
   "outputs": [
    {
     "name": "stdout",
     "output_type": "stream",
     "text": [
      "3\n",
      "6\n"
     ]
    }
   ],
   "source": [
    "class Calculadora:\n",
    "    def sumar(self, a, b, c=0):\n",
    "        return a + b + c\n",
    "\n",
    "# Crear instancia de la clase Calculadora\n",
    "calc = Calculadora()\n",
    "\n",
    "# Llamar al método sumar con diferentes números de argumentos\n",
    "print(calc.sumar(1, 2))      # Salida: 3\n",
    "print(calc.sumar(1, 2, 3))    # Salida: 6"
   ]
  },
  {
   "cell_type": "markdown",
   "metadata": {},
   "source": [
    "En este ejemplo, el método `sumar()` de la clase `Calculadora` puede aceptar dos o tres argumentos. Si se llama con dos argumentos, se suman solo esos dos. Si se llama con tres argumentos, se suman los tres. Esto simula la sobrecarga de métodos, aunque Python no lo admite directamente como lo hacen algunos otros lenguajes de programación."
   ]
  }
 ],
 "metadata": {
  "kernelspec": {
   "display_name": "Python 3 (ipykernel)",
   "language": "python",
   "name": "python3"
  },
  "language_info": {
   "codemirror_mode": {
    "name": "ipython",
    "version": 3
   },
   "file_extension": ".py",
   "mimetype": "text/x-python",
   "name": "python",
   "nbconvert_exporter": "python",
   "pygments_lexer": "ipython3",
   "version": "3.8.10"
  },
  "nbTranslate": {
   "displayLangs": [
    "*"
   ],
   "hotkey": "alt-t",
   "langInMainMenu": true,
   "sourceLang": "en",
   "targetLang": "fr",
   "useGoogleTranslate": true
  }
 },
 "nbformat": 4,
 "nbformat_minor": 4
}
