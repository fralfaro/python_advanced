{
 "cells": [
  {
   "cell_type": "markdown",
   "metadata": {},
   "source": [
    "<a href=\"https://colab.research.google.com/github/fralfaro/python_advanced/blob/main/docs/oop/oop_encapsulamiento.ipynb\" target=\"_parent\"><img src=\"https://colab.research.google.com/assets/colab-badge.svg\" alt=\"Open In Colab\"/></a>\n",
    "\n",
    "# Encapsulamiento \n",
    "\n",
    "El encapsulamiento en Python es un principio de la programación orientada a objetos que consiste en ocultar los detalles de implementación de una clase y exponer solo una interfaz pública para interactuar con los objetos de esa clase. Esto se logra definiendo atributos y métodos como públicos, privados o protegidos."
   ]
  },
  {
   "cell_type": "markdown",
   "metadata": {},
   "source": [
    "<img src=\"https://miro.medium.com/v2/resize:fit:696/1*9vLyXYokzbeFiL5vWQlV_A.jpeg\" alt=\"Descripción de la imagen\" width=\"350\">"
   ]
  },
  {
   "cell_type": "markdown",
   "metadata": {},
   "source": [
    "## Niveles de Encapsulamiento:\n",
    "\n",
    "**Atributos y Métodos Públicos:** Son accesibles desde cualquier parte del programa. Se definen sin ningún prefijo especial."
   ]
  },
  {
   "cell_type": "code",
   "execution_count": 1,
   "metadata": {},
   "outputs": [],
   "source": [
    "class Persona:\n",
    "    def __init__(self, nombre):\n",
    "        self.nombre = nombre\n",
    "    \n",
    "    def saludar(self):\n",
    "        return f\"Hola, soy {self.nombre}.\""
   ]
  },
  {
   "cell_type": "markdown",
   "metadata": {},
   "source": [
    "**Atributos y Métodos Privados:** Son accesibles solo desde dentro de la clase que los define. Se definen con un prefijo de doble guion bajo (`__`)."
   ]
  },
  {
   "cell_type": "code",
   "execution_count": 2,
   "metadata": {},
   "outputs": [],
   "source": [
    "class Persona:\n",
    "    def __init__(self, nombre):\n",
    "        self.__nombre = nombre\n",
    "    \n",
    "    def __saludar(self):\n",
    "        return f\"Hola, soy {self.__nombre}.\""
   ]
  },
  {
   "cell_type": "markdown",
   "metadata": {},
   "source": [
    "**Atributos y Métodos Protegidos:** Son accesibles desde dentro de la clase que los define y desde las clases que heredan de ella. Se definen con un prefijo de un solo guion bajo (`_`)."
   ]
  },
  {
   "cell_type": "code",
   "execution_count": 3,
   "metadata": {},
   "outputs": [],
   "source": [
    "class Persona:\n",
    "    def __init__(self, nombre):\n",
    "        self._nombre = nombre\n",
    "    \n",
    "    def _saludar(self):\n",
    "        return f\"Hola, soy {self._nombre}.\""
   ]
  },
  {
   "cell_type": "markdown",
   "metadata": {},
   "source": [
    "## Uso de Encapsulamiento\n",
    "\n",
    "El encapsulamiento permite ocultar la implementación interna de una clase y proporcionar una interfaz clara y bien definida para interactuar con los objetos de esa clase. Esto promueve la modularidad, la seguridad y el mantenimiento del código."
   ]
  },
  {
   "cell_type": "code",
   "execution_count": 4,
   "metadata": {},
   "outputs": [],
   "source": [
    "class Persona:\n",
    "    def __init__(self, nombre):\n",
    "        self.__nombre = nombre\n",
    "    \n",
    "    def saludar(self):\n",
    "        return f\"Hola, soy {self.__nombre}.\"\n",
    "\n",
    "# Crear un objeto de la clase Persona\n",
    "persona = Persona(\"Juan\")"
   ]
  },
  {
   "cell_type": "code",
   "execution_count": 5,
   "metadata": {},
   "outputs": [
    {
     "ename": "AttributeError",
     "evalue": "'Persona' object has no attribute 'nombre'",
     "output_type": "error",
     "traceback": [
      "\u001b[1;31m---------------------------------------------------------------------------\u001b[0m",
      "\u001b[1;31mAttributeError\u001b[0m                            Traceback (most recent call last)",
      "Cell \u001b[1;32mIn[5], line 2\u001b[0m\n\u001b[0;32m      1\u001b[0m \u001b[38;5;66;03m# Acceder a un atributo público\u001b[39;00m\n\u001b[1;32m----> 2\u001b[0m \u001b[38;5;28mprint\u001b[39m(\u001b[43mpersona\u001b[49m\u001b[38;5;241;43m.\u001b[39;49m\u001b[43mnombre\u001b[49m)  \u001b[38;5;66;03m# Error: AttributeError: 'Persona' object has no attribute 'nombre'\u001b[39;00m\n",
      "\u001b[1;31mAttributeError\u001b[0m: 'Persona' object has no attribute 'nombre'"
     ]
    }
   ],
   "source": [
    "# Acceder a un atributo público\n",
    "print(persona.nombre)  # Error: AttributeError: 'Persona' object has no attribute 'nombre'"
   ]
  },
  {
   "cell_type": "code",
   "execution_count": 6,
   "metadata": {},
   "outputs": [
    {
     "ename": "AttributeError",
     "evalue": "'Persona' object has no attribute '__nombre'",
     "output_type": "error",
     "traceback": [
      "\u001b[1;31m---------------------------------------------------------------------------\u001b[0m",
      "\u001b[1;31mAttributeError\u001b[0m                            Traceback (most recent call last)",
      "Cell \u001b[1;32mIn[6], line 2\u001b[0m\n\u001b[0;32m      1\u001b[0m \u001b[38;5;66;03m# Acceder a un atributo privado\u001b[39;00m\n\u001b[1;32m----> 2\u001b[0m \u001b[38;5;28mprint\u001b[39m(\u001b[43mpersona\u001b[49m\u001b[38;5;241;43m.\u001b[39;49m\u001b[43m__nombre\u001b[49m)  \u001b[38;5;66;03m# Error: AttributeError: 'Persona' object has no attribute '__nombre'\u001b[39;00m\n",
      "\u001b[1;31mAttributeError\u001b[0m: 'Persona' object has no attribute '__nombre'"
     ]
    }
   ],
   "source": [
    "# Acceder a un atributo privado\n",
    "print(persona.__nombre)  # Error: AttributeError: 'Persona' object has no attribute '__nombre'"
   ]
  },
  {
   "cell_type": "code",
   "execution_count": 7,
   "metadata": {},
   "outputs": [
    {
     "name": "stdout",
     "output_type": "stream",
     "text": [
      "Hola, soy Juan.\n"
     ]
    }
   ],
   "source": [
    "# Acceder a un método público\n",
    "print(persona.saludar())  # Salida: Hola, soy Juan"
   ]
  },
  {
   "cell_type": "markdown",
   "metadata": {},
   "source": [
    "En este ejemplo, el atributo `nombre` es privado y solo se puede acceder a él desde dentro de la clase `Persona`. El método `saludar()` es público y proporciona una forma segura de interactuar con el objeto `persona` sin exponer su implementación interna.\n",
    "\n",
    "En resumen, el encapsulamiento en Python permite controlar el acceso a los atributos y métodos de una clase y promueve una interfaz clara y segura para interactuar con los objetos de esa clase. Esto ayuda a mejorar la modularidad, la seguridad y el mantenimiento del código."
   ]
  }
 ],
 "metadata": {
  "kernelspec": {
   "display_name": "Python 3 (ipykernel)",
   "language": "python",
   "name": "python3"
  },
  "language_info": {
   "codemirror_mode": {
    "name": "ipython",
    "version": 3
   },
   "file_extension": ".py",
   "mimetype": "text/x-python",
   "name": "python",
   "nbconvert_exporter": "python",
   "pygments_lexer": "ipython3",
   "version": "3.8.10"
  },
  "nbTranslate": {
   "displayLangs": [
    "*"
   ],
   "hotkey": "alt-t",
   "langInMainMenu": true,
   "sourceLang": "en",
   "targetLang": "fr",
   "useGoogleTranslate": true
  }
 },
 "nbformat": 4,
 "nbformat_minor": 4
}
