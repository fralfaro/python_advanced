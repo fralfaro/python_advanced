{
 "cells": [
  {
   "cell_type": "markdown",
   "metadata": {},
   "source": [
    "# Patrones de creación\n",
    "\n",
    "Los **patrones de creación** son un conjunto de patrones de diseño en ingeniería de software que se centran en la creación de objetos de manera flexible y eficiente. Estos patrones proporcionan soluciones generales para problemas relacionados con la creación de objetos, como la creación de objetos complejos, la gestión de sus ciclos de vida y la ocultación de los detalles de creación."
   ]
  },
  {
   "cell_type": "markdown",
   "metadata": {},
   "source": [
    "## Singleton\n",
    "\n",
    "El patrón **Singleton** garantiza que una clase solo tenga una instancia y proporciona un punto de acceso global a esa instancia. Es útil cuando solo se requiere una instancia de una clase para gestionar recursos compartidos.\n",
    "\n",
    "![singleton](images/singleton.png)"
   ]
  },
  {
   "cell_type": "code",
   "execution_count": 1,
   "metadata": {},
   "outputs": [],
   "source": [
    "class Singleton:\n",
    "    _instance = None\n",
    "    \n",
    "    def __new__(cls):\n",
    "        if not cls._instance:\n",
    "            cls._instance = super().__new__(cls)\n",
    "        return cls._instance\n",
    "\n",
    "# Uso del Singleton\n",
    "s1 = Singleton()\n",
    "s2 = Singleton()"
   ]
  },
  {
   "cell_type": "code",
   "execution_count": 2,
   "metadata": {},
   "outputs": [
    {
     "name": "stdout",
     "output_type": "stream",
     "text": [
      "True\n"
     ]
    }
   ],
   "source": [
    "print(s1 is s2)  # Salida: True"
   ]
  },
  {
   "cell_type": "markdown",
   "metadata": {},
   "source": [
    "En esta implementación:\n",
    "\n",
    "- El método `__new__()` se utiliza para crear una nueva instancia de la clase.\n",
    "- Se utiliza una variable de clase `_instance` para almacenar la única instancia de la clase.\n",
    "- Cuando se crea una nueva instancia, se verifica si `_instance` ya está configurado. Si no está configurado, se crea una nueva instancia y se almacena en `_instance`. Si ya está configurado, se devuelve la instancia existente.\n",
    "- Como resultado, cualquier intento de crear una nueva instancia de la clase Singleton siempre devolverá la misma instancia.\n",
    "\n"
   ]
  },
  {
   "cell_type": "markdown",
   "metadata": {},
   "source": [
    "## Prototype\n",
    "\n",
    "El patrón **Prototype** se utiliza para crear nuevos objetos copiando un prototipo existente en lugar de crear un objeto desde cero. Esto es útil cuando la creación de un objeto es costosa en términos de recursos o tiempo.\n",
    "\n",
    "![prototype](images/prototype.png)"
   ]
  },
  {
   "cell_type": "code",
   "execution_count": 3,
   "metadata": {},
   "outputs": [],
   "source": [
    "import copy\n",
    "\n",
    "class Prototype:\n",
    "    def __init__(self):\n",
    "        self._objects = {}\n",
    "    \n",
    "    def register_object(self, name, obj):\n",
    "        self._objects[name] = obj\n",
    "    \n",
    "    def unregister_object(self, name):\n",
    "        del self._objects[name]\n",
    "    \n",
    "    def clone(self, name, **attrs):\n",
    "        obj = copy.deepcopy(self._objects.get(name))\n",
    "        obj.__dict__.update(attrs)\n",
    "        return obj\n",
    "\n",
    "class Car:\n",
    "    def __init__(self):\n",
    "        self.make = \"Generic\"\n",
    "        self.model = \"Car\"\n",
    "    \n",
    "    def __str__(self):\n",
    "        return f\"{self.make} {self.model}\""
   ]
  },
  {
   "cell_type": "code",
   "execution_count": 4,
   "metadata": {},
   "outputs": [],
   "source": [
    "# Uso del patrón Prototype\n",
    "car_prototype = Car()\n",
    "prototype = Prototype()\n",
    "prototype.register_object(\"car\", car_prototype)"
   ]
  },
  {
   "cell_type": "code",
   "execution_count": 5,
   "metadata": {},
   "outputs": [
    {
     "name": "stdout",
     "output_type": "stream",
     "text": [
      "Generic Car\n"
     ]
    }
   ],
   "source": [
    "car = prototype.clone(\"car\")\n",
    "print(car)  # Salida: Generic Car"
   ]
  },
  {
   "cell_type": "code",
   "execution_count": 6,
   "metadata": {},
   "outputs": [
    {
     "name": "stdout",
     "output_type": "stream",
     "text": [
      "Ford Car\n"
     ]
    }
   ],
   "source": [
    "car.make = \"Ford\"\n",
    "print(car)  # Salida: Ford Car"
   ]
  },
  {
   "cell_type": "code",
   "execution_count": 7,
   "metadata": {},
   "outputs": [
    {
     "name": "stdout",
     "output_type": "stream",
     "text": [
      "Toyota Car\n"
     ]
    }
   ],
   "source": [
    "car2 = prototype.clone(\"car\", make=\"Toyota\")\n",
    "print(car2)  # Salida: Toyota Car"
   ]
  },
  {
   "cell_type": "markdown",
   "metadata": {},
   "source": [
    "En este ejemplo:\n",
    "\n",
    "- `Prototype` es una clase que mantiene un diccionario de objetos prototipo registrados.\n",
    "- `register_object()` se utiliza para registrar un objeto prototipo con un nombre asociado.\n",
    "- `unregister_object()` se utiliza para eliminar un objeto prototipo registrado.\n",
    "- `clone()` se utiliza para clonar un objeto prototipo. Se realiza una copia profunda del objeto y luego se actualizan los atributos especificados.\n",
    "- `Car` es una clase simple que representa un coche con atributos `make` y `model`.\n",
    "- Se crea un objeto prototipo `car_prototype` de la clase `Car`, se registra en el prototipo y se clonan instancias a partir de este prototipo. Se puede personalizar cada instancia clonada actualizando sus atributos según sea necesario."
   ]
  },
  {
   "cell_type": "markdown",
   "metadata": {},
   "source": [
    "## Factory Method\n",
    "\n",
    "El patrón **Factory Method** es un patrón de diseño creacional que proporciona una interfaz para crear objetos en una clase base, pero permite a las subclases alterar el tipo de objetos que se crean.\n",
    "\n",
    "![factory method](images/factorymethod.png)"
   ]
  },
  {
   "cell_type": "code",
   "execution_count": 8,
   "metadata": {},
   "outputs": [],
   "source": [
    "from abc import ABC, abstractmethod\n",
    "\n",
    "# Clase base para productos\n",
    "class Product(ABC):\n",
    "    @abstractmethod\n",
    "    def operation(self) -> str:\n",
    "        pass\n",
    "\n",
    "# Implementaciones concretas de productos\n",
    "class ConcreteProduct1(Product):\n",
    "    def operation(self) -> str:\n",
    "        return \"Operation of ConcreteProduct1\"\n",
    "\n",
    "class ConcreteProduct2(Product):\n",
    "    def operation(self) -> str:\n",
    "        return \"Operation of ConcreteProduct2\"\n",
    "\n",
    "# Clase base para la fábrica\n",
    "class Creator(ABC):\n",
    "    @abstractmethod\n",
    "    def factory_method(self) -> Product:\n",
    "        pass\n",
    "    \n",
    "    def some_operation(self) -> str:\n",
    "        product = self.factory_method()\n",
    "        result = f\"Creator: {product.operation()}\"\n",
    "        return result\n",
    "\n",
    "# Implementaciones concretas de fábricas\n",
    "class ConcreteCreator1(Creator):\n",
    "    def factory_method(self) -> Product:\n",
    "        return ConcreteProduct1()\n",
    "\n",
    "class ConcreteCreator2(Creator):\n",
    "    def factory_method(self) -> Product:\n",
    "        return ConcreteProduct2()"
   ]
  },
  {
   "cell_type": "code",
   "execution_count": 9,
   "metadata": {},
   "outputs": [
    {
     "name": "stdout",
     "output_type": "stream",
     "text": [
      "Creator: Operation of ConcreteProduct1\n",
      "Creator: Operation of ConcreteProduct2\n"
     ]
    }
   ],
   "source": [
    "# Uso del patrón Factory Method\n",
    "creator = ConcreteCreator1()\n",
    "print(creator.some_operation())\n",
    "\n",
    "creator = ConcreteCreator2()\n",
    "print(creator.some_operation())"
   ]
  },
  {
   "cell_type": "markdown",
   "metadata": {},
   "source": [
    "En este ejemplo:\n",
    "\n",
    "- `Product` es una clase abstracta que define la interfaz para los objetos que la fábrica va a producir.\n",
    "- `ConcreteProduct1` y `ConcreteProduct2` son implementaciones concretas de `Product`.\n",
    "- `Creator` es una clase abstracta que declara el método de fábrica (`factory_method`) que las subclases deben implementar para crear objetos.\n",
    "- `ConcreteCreator1` y `ConcreteCreator2` son implementaciones concretas de `Creator` que proporcionan implementaciones específicas del método de fábrica para crear diferentes tipos de productos.\n",
    "- Al llamar al método `some_operation()` de una instancia de `Creator`, se crea un producto utilizando el método de fábrica correspondiente y se realiza alguna operación con él.\n",
    "\n"
   ]
  },
  {
   "cell_type": "markdown",
   "metadata": {},
   "source": [
    "## Otros patrones"
   ]
  },
  {
   "cell_type": "markdown",
   "metadata": {},
   "source": [
    "**Abstract Factory**:\n",
    "\n",
    "El patrón Abstract Factory proporciona una interfaz para crear familias de objetos relacionados o dependientes sin especificar sus clases concretas. Es útil cuando se desea encapsular la creación de un conjunto de objetos relacionados.\n",
    "\n",
    "**Builder**:\n",
    "\n",
    "El patrón Builder separa la construcción de un objeto complejo de su representación y permite la creación de diferentes tipos y representaciones de un objeto utilizando el mismo proceso de construcción.\n",
    "\n",
    "**Object Pool**:\n",
    "\n",
    "El patrón Object Pool administra un conjunto de objetos reutilizables en lugar de crear y destruir objetos nuevos cada vez que se necesitan. Es útil cuando la creación y destrucción de objetos es costosa y se requiere un acceso eficiente a ellos.\n",
    "\n"
   ]
  }
 ],
 "metadata": {
  "kernelspec": {
   "display_name": "Python 3 (ipykernel)",
   "language": "python",
   "name": "python3"
  },
  "language_info": {
   "codemirror_mode": {
    "name": "ipython",
    "version": 3
   },
   "file_extension": ".py",
   "mimetype": "text/x-python",
   "name": "python",
   "nbconvert_exporter": "python",
   "pygments_lexer": "ipython3",
   "version": "3.8.10"
  },
  "nbTranslate": {
   "displayLangs": [
    "*"
   ],
   "hotkey": "alt-t",
   "langInMainMenu": true,
   "sourceLang": "en",
   "targetLang": "fr",
   "useGoogleTranslate": true
  }
 },
 "nbformat": 4,
 "nbformat_minor": 4
}
