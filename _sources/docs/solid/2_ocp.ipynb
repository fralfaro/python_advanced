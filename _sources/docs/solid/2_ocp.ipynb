{
 "cells": [
  {
   "cell_type": "markdown",
   "metadata": {},
   "source": [
    "# Open-Closed Principle\n"
   ]
  },
  {
   "cell_type": "markdown",
   "metadata": {},
   "source": [
    "El **Principio de Abierto/Cerrado** (Open/Closed Principle - OCP) es uno de los cinco principios SOLID del diseño de software. Fue propuesto por Bertrand Meyer en su libro \"Object-Oriented Software Construction\". El OCP establece que las entidades de software (clases, módulos, funciones, etc.) deben estar abiertas para su extensión pero cerradas para su modificación.\n",
    "\n",
    "## Definición del OCP:\n",
    "\n",
    "El principio OCP establece que una clase debe estar abierta para su extensión, lo que significa que debe ser posible agregar nuevas funcionalidades a la clase sin modificar su código fuente. Sin embargo, la clase debe estar cerrada para su modificación, lo que significa que su comportamiento existente no debe ser alterado. En lugar de modificar la clase existente, se deben crear nuevas clases que extiendan o implementen interfaces existentes para agregar nuevas funcionalidades.\n",
    "\n",
    "## Ejemplo del OCP:\n",
    "\n",
    "Supongamos que tenemos una clase `Shape` que representa diferentes formas geométricas. Originalmente, la clase `Shape` tiene un método `area()` para calcular el área de la forma. Siguiendo el principio OCP, si queremos agregar nuevas formas geométricas sin modificar la clase `Shape`, podemos crear nuevas clases que extiendan la funcionalidad existente."
   ]
  },
  {
   "cell_type": "code",
   "execution_count": 3,
   "metadata": {},
   "outputs": [],
   "source": [
    "from abc import ABC, abstractmethod\n",
    "\n",
    "# Clase base para formas geométricas\n",
    "class Shape(ABC):\n",
    "    @abstractmethod\n",
    "    def area(self):\n",
    "        pass\n",
    "\n",
    "# Clase para un círculo\n",
    "class Circle(Shape):\n",
    "    def __init__(self, radius):\n",
    "        self.radius = radius\n",
    "\n",
    "    def area(self):\n",
    "        return 3.14 * self.radius ** 2\n",
    "\n",
    "# Clase para un cuadrado\n",
    "class Square(Shape):\n",
    "    def __init__(self, side):\n",
    "        self.side = side\n",
    "\n",
    "    def area(self):\n",
    "        return self.side ** 2\n",
    "\n",
    "# Clase para un triángulo\n",
    "class Triangle(Shape):\n",
    "    def __init__(self, base, height):\n",
    "        self.base = base\n",
    "        self.height = height\n",
    "\n",
    "    def area(self):\n",
    "        return 0.5 * self.base * self.height"
   ]
  },
  {
   "cell_type": "code",
   "execution_count": 4,
   "metadata": {},
   "outputs": [
    {
     "name": "stdout",
     "output_type": "stream",
     "text": [
      "Área del círculo: 78.5\n",
      "Área del cuadrado: 16\n",
      "Área del triángulo: 9.0\n"
     ]
    }
   ],
   "source": [
    "# Uso del principio OCP\n",
    "circle = Circle(5)\n",
    "square = Square(4)\n",
    "triangle = Triangle(3, 6)\n",
    "\n",
    "print(\"Área del círculo:\", circle.area())\n",
    "print(\"Área del cuadrado:\", square.area())\n",
    "print(\"Área del triángulo:\", triangle.area())"
   ]
  },
  {
   "cell_type": "markdown",
   "metadata": {},
   "source": [
    "En este ejemplo, la clase `Shape` está cerrada para su modificación, ya que no se ha modificado su código. Sin embargo, está abierta para su extensión, ya que se han creado nuevas clases (`Circle`, `Square` y `Triangle`) que extienden la funcionalidad existente. Esto sigue el principio OCP y hace que el código sea más flexible y fácil de mantener."
   ]
  }
 ],
 "metadata": {
  "kernelspec": {
   "display_name": "Python 3 (ipykernel)",
   "language": "python",
   "name": "python3"
  },
  "language_info": {
   "codemirror_mode": {
    "name": "ipython",
    "version": 3
   },
   "file_extension": ".py",
   "mimetype": "text/x-python",
   "name": "python",
   "nbconvert_exporter": "python",
   "pygments_lexer": "ipython3",
   "version": "3.8.10"
  },
  "nbTranslate": {
   "displayLangs": [
    "*"
   ],
   "hotkey": "alt-t",
   "langInMainMenu": true,
   "sourceLang": "en",
   "targetLang": "fr",
   "useGoogleTranslate": true
  }
 },
 "nbformat": 4,
 "nbformat_minor": 4
}
