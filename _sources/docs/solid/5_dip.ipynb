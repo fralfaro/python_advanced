{
 "cells": [
  {
   "cell_type": "markdown",
   "metadata": {},
   "source": [
    "# Dependency Inversion Principle"
   ]
  },
  {
   "cell_type": "markdown",
   "metadata": {},
   "source": [
    "El **Principio de Inversión de Dependencias** (Dependency Inversion Principle - DIP) es uno de los cinco principios SOLID del diseño de software. Fue propuesto por Robert C. Martin como una forma de reducir el acoplamiento entre módulos de software y promover el diseño de sistemas más flexibles y extensibles. El DIP establece que las clases de alto nivel no deben depender de las clases de bajo nivel, sino de abstracciones. Las abstracciones no deben depender de detalles concretos; los detalles concretos deben depender de abstracciones.\n",
    "\n",
    "## Definición del DIP:\n",
    "\n",
    "El principio DIP establece dos reglas fundamentales:\n",
    "\n",
    "1. Los módulos de alto nivel no deben depender de los módulos de bajo nivel. Ambos deben depender de abstracciones.\n",
    "2. Las abstracciones no deben depender de detalles concretos. Los detalles concretos deben depender de abstracciones.\n",
    "\n",
    "En resumen, este principio promueve el desacoplamiento entre los componentes de un sistema, lo que facilita la modificación y extensión del software.\n",
    "\n",
    "## Ejemplo del DIP:\n",
    "\n",
    "Supongamos que tenemos un sistema de gestión de empleados que proporciona una funcionalidad para calcular los salarios de los empleados. Utilizaremos el principio DIP para desacoplar el cálculo del salario de la clase `Employee` utilizando una interfaz `SalaryCalculator`."
   ]
  },
  {
   "cell_type": "code",
   "execution_count": 3,
   "metadata": {},
   "outputs": [],
   "source": [
    "from abc import ABC, abstractmethod\n",
    "\n",
    "# Interfaz para el cálculo del salario\n",
    "class SalaryCalculator(ABC):\n",
    "    @abstractmethod\n",
    "    def calculate_salary(self, employee):\n",
    "        pass\n",
    "\n",
    "# Implementación concreta del cálculo del salario\n",
    "class BasicSalaryCalculator(SalaryCalculator):\n",
    "    def calculate_salary(self, employee):\n",
    "        # Cálculo básico del salario\n",
    "        return employee.salary\n",
    "\n",
    "# Clase de alto nivel que depende de la abstracción\n",
    "class PayrollSystem:\n",
    "    def __init__(self, salary_calculator):\n",
    "        self.salary_calculator = salary_calculator\n",
    "\n",
    "    def calculate_payroll(self, employee):\n",
    "        return self.salary_calculator.calculate_salary(employee)\n",
    "\n",
    "# Clase de bajo nivel\n",
    "class Employee:\n",
    "    def __init__(self, name, salary):\n",
    "        self.name = name\n",
    "        self.salary = salary"
   ]
  },
  {
   "cell_type": "code",
   "execution_count": 4,
   "metadata": {},
   "outputs": [
    {
     "name": "stdout",
     "output_type": "stream",
     "text": [
      "Salary for John is 5000\n"
     ]
    }
   ],
   "source": [
    "# Uso del principio DIP\n",
    "\n",
    "basic_salary_calculator = BasicSalaryCalculator()\n",
    "payroll_system = PayrollSystem(basic_salary_calculator)\n",
    "\n",
    "employee = Employee(\"John\", 5000)\n",
    "print(\"Salary for\", employee.name, \"is\", payroll_system.calculate_payroll(employee))"
   ]
  },
  {
   "cell_type": "markdown",
   "metadata": {},
   "source": [
    "En este ejemplo, `PayrollSystem` es una clase de alto nivel que calcula el salario de los empleados utilizando un objeto que implementa la interfaz `SalaryCalculator`. Esto sigue el principio DIP, ya que `PayrollSystem` no depende de la implementación concreta del cálculo del salario, sino de una abstracción (`SalaryCalculator`). Esto facilita la extensión del sistema, ya que es fácil agregar nuevas implementaciones de `SalaryCalculator` sin modificar `PayrollSystem`."
   ]
  }
 ],
 "metadata": {
  "kernelspec": {
   "display_name": "Python 3 (ipykernel)",
   "language": "python",
   "name": "python3"
  },
  "language_info": {
   "codemirror_mode": {
    "name": "ipython",
    "version": 3
   },
   "file_extension": ".py",
   "mimetype": "text/x-python",
   "name": "python",
   "nbconvert_exporter": "python",
   "pygments_lexer": "ipython3",
   "version": "3.8.10"
  },
  "nbTranslate": {
   "displayLangs": [
    "*"
   ],
   "hotkey": "alt-t",
   "langInMainMenu": true,
   "sourceLang": "en",
   "targetLang": "fr",
   "useGoogleTranslate": true
  }
 },
 "nbformat": 4,
 "nbformat_minor": 4
}
